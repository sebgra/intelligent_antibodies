{
 "cells": [
  {
   "cell_type": "code",
   "execution_count": 1,
   "metadata": {},
   "outputs": [
    {
     "name": "stderr",
     "output_type": "stream",
     "text": [
      "2024-03-23 06:53:27.684866: E external/local_xla/xla/stream_executor/cuda/cuda_dnn.cc:9261] Unable to register cuDNN factory: Attempting to register factory for plugin cuDNN when one has already been registered\n",
      "2024-03-23 06:53:27.684930: E external/local_xla/xla/stream_executor/cuda/cuda_fft.cc:607] Unable to register cuFFT factory: Attempting to register factory for plugin cuFFT when one has already been registered\n",
      "2024-03-23 06:53:27.685653: E external/local_xla/xla/stream_executor/cuda/cuda_blas.cc:1515] Unable to register cuBLAS factory: Attempting to register factory for plugin cuBLAS when one has already been registered\n",
      "2024-03-23 06:53:27.692088: I tensorflow/core/platform/cpu_feature_guard.cc:182] This TensorFlow binary is optimized to use available CPU instructions in performance-critical operations.\n",
      "To enable the following instructions: SSE4.1 SSE4.2 AVX AVX2 FMA, in other operations, rebuild TensorFlow with the appropriate compiler flags.\n"
     ]
    }
   ],
   "source": [
    "import os\n",
    "\n",
    "os.environ[\"KERAS_BACKEND\"] = \"tensorflow\"\n",
    "\n",
    "import numpy as np\n",
    "import tensorflow as tf\n",
    "import keras\n",
    "from keras import layers\n",
    "\n",
    "from modules.dataset import OneHotProtDataset\n",
    "from sklearn.model_selection import train_test_split\n",
    "\n",
    "from modules.model.VAE import VAE"
   ]
  },
  {
   "cell_type": "code",
   "execution_count": 2,
   "metadata": {},
   "outputs": [],
   "source": [
    "x_data, y_data, vector_size, alphabet_size = OneHotProtDataset.get_data()\n",
    "x_train, x_test, y_train, y_test = train_test_split(\n",
    "    x_data, y_data, test_size=0.2, random_state=42\n",
    ")"
   ]
  },
  {
   "cell_type": "code",
   "execution_count": 3,
   "metadata": {},
   "outputs": [],
   "source": [
    "class Sampling(layers.Layer):\n",
    "    \"\"\"Uses (z_mean, z_log_var) to sample z, the vector encoding a digit.\"\"\"\n",
    "\n",
    "    def call(self, inputs):\n",
    "        z_mean, z_log_var = inputs\n",
    "        batch = tf.shape(z_mean)[0]\n",
    "        dim = tf.shape(z_mean)[1]\n",
    "        epsilon = tf.random.normal(shape=(batch, dim))\n",
    "        return z_mean + tf.exp(0.5 * z_log_var) * epsilon\n"
   ]
  },
  {
   "cell_type": "markdown",
   "metadata": {},
   "source": [
    "### Encoder"
   ]
  },
  {
   "cell_type": "code",
   "execution_count": 4,
   "metadata": {},
   "outputs": [
    {
     "name": "stderr",
     "output_type": "stream",
     "text": [
      "2024-03-23 06:53:33.186559: I external/local_xla/xla/stream_executor/cuda/cuda_executor.cc:901] successful NUMA node read from SysFS had negative value (-1), but there must be at least one NUMA node, so returning NUMA node zero. See more at https://github.com/torvalds/linux/blob/v6.0/Documentation/ABI/testing/sysfs-bus-pci#L344-L355\n",
      "2024-03-23 06:53:33.278093: I external/local_xla/xla/stream_executor/cuda/cuda_executor.cc:901] successful NUMA node read from SysFS had negative value (-1), but there must be at least one NUMA node, so returning NUMA node zero. See more at https://github.com/torvalds/linux/blob/v6.0/Documentation/ABI/testing/sysfs-bus-pci#L344-L355\n",
      "2024-03-23 06:53:33.280878: I external/local_xla/xla/stream_executor/cuda/cuda_executor.cc:901] successful NUMA node read from SysFS had negative value (-1), but there must be at least one NUMA node, so returning NUMA node zero. See more at https://github.com/torvalds/linux/blob/v6.0/Documentation/ABI/testing/sysfs-bus-pci#L344-L355\n",
      "2024-03-23 06:53:33.284965: I external/local_xla/xla/stream_executor/cuda/cuda_executor.cc:901] successful NUMA node read from SysFS had negative value (-1), but there must be at least one NUMA node, so returning NUMA node zero. See more at https://github.com/torvalds/linux/blob/v6.0/Documentation/ABI/testing/sysfs-bus-pci#L344-L355\n",
      "2024-03-23 06:53:33.287643: I external/local_xla/xla/stream_executor/cuda/cuda_executor.cc:901] successful NUMA node read from SysFS had negative value (-1), but there must be at least one NUMA node, so returning NUMA node zero. See more at https://github.com/torvalds/linux/blob/v6.0/Documentation/ABI/testing/sysfs-bus-pci#L344-L355\n",
      "2024-03-23 06:53:33.290179: I external/local_xla/xla/stream_executor/cuda/cuda_executor.cc:901] successful NUMA node read from SysFS had negative value (-1), but there must be at least one NUMA node, so returning NUMA node zero. See more at https://github.com/torvalds/linux/blob/v6.0/Documentation/ABI/testing/sysfs-bus-pci#L344-L355\n",
      "2024-03-23 06:53:35.319406: I external/local_xla/xla/stream_executor/cuda/cuda_executor.cc:901] successful NUMA node read from SysFS had negative value (-1), but there must be at least one NUMA node, so returning NUMA node zero. See more at https://github.com/torvalds/linux/blob/v6.0/Documentation/ABI/testing/sysfs-bus-pci#L344-L355\n",
      "2024-03-23 06:53:35.321488: I external/local_xla/xla/stream_executor/cuda/cuda_executor.cc:901] successful NUMA node read from SysFS had negative value (-1), but there must be at least one NUMA node, so returning NUMA node zero. See more at https://github.com/torvalds/linux/blob/v6.0/Documentation/ABI/testing/sysfs-bus-pci#L344-L355\n",
      "2024-03-23 06:53:35.323401: I external/local_xla/xla/stream_executor/cuda/cuda_executor.cc:901] successful NUMA node read from SysFS had negative value (-1), but there must be at least one NUMA node, so returning NUMA node zero. See more at https://github.com/torvalds/linux/blob/v6.0/Documentation/ABI/testing/sysfs-bus-pci#L344-L355\n",
      "2024-03-23 06:53:35.325168: I tensorflow/core/common_runtime/gpu/gpu_device.cc:1929] Created device /job:localhost/replica:0/task:0/device:GPU:0 with 13775 MB memory:  -> device: 0, name: Tesla T4, pci bus id: 0000:00:07.0, compute capability: 7.5\n"
     ]
    },
    {
     "name": "stdout",
     "output_type": "stream",
     "text": [
      "Model: \"encoder\"\n",
      "__________________________________________________________________________________________________\n",
      " Layer (type)                Output Shape                 Param #   Connected to                  \n",
      "==================================================================================================\n",
      " input_1 (InputLayer)        [(None, 1500, 22, 1)]        0         []                            \n",
      "                                                                                                  \n",
      " conv2d (Conv2D)             (None, 750, 11, 32)          320       ['input_1[0][0]']             \n",
      "                                                                                                  \n",
      " conv2d_1 (Conv2D)           (None, 375, 6, 64)           18496     ['conv2d[0][0]']              \n",
      "                                                                                                  \n",
      " flatten (Flatten)           (None, 144000)               0         ['conv2d_1[0][0]']            \n",
      "                                                                                                  \n",
      " dense (Dense)               (None, 16)                   2304016   ['flatten[0][0]']             \n",
      "                                                                                                  \n",
      " z_mean (Dense)              (None, 2)                    34        ['dense[0][0]']               \n",
      "                                                                                                  \n",
      " z_log_var (Dense)           (None, 2)                    34        ['dense[0][0]']               \n",
      "                                                                                                  \n",
      " sampling (Sampling)         (None, 2)                    0         ['z_mean[0][0]',              \n",
      "                                                                     'z_log_var[0][0]']           \n",
      "                                                                                                  \n",
      "==================================================================================================\n",
      "Total params: 2322900 (8.86 MB)\n",
      "Trainable params: 2322900 (8.86 MB)\n",
      "Non-trainable params: 0 (0.00 Byte)\n",
      "__________________________________________________________________________________________________\n"
     ]
    }
   ],
   "source": [
    "latent_dim = 2\n",
    "\n",
    "encoder_inputs = keras.Input(shape=(vector_size, alphabet_size, 1))\n",
    "x = layers.Conv2D(32, 3, activation=\"relu\", strides=2, padding=\"same\")(encoder_inputs)\n",
    "x = layers.Conv2D(64, 3, activation=\"relu\", strides=2, padding=\"same\")(x)\n",
    "x = layers.Flatten()(x)\n",
    "x = layers.Dense(16, activation=\"relu\")(x)\n",
    "z_mean = layers.Dense(latent_dim, name=\"z_mean\")(x)\n",
    "z_log_var = layers.Dense(latent_dim, name=\"z_log_var\")(x)\n",
    "z = Sampling()([z_mean, z_log_var])\n",
    "encoder = keras.Model(encoder_inputs, [z_mean, z_log_var, z], name=\"encoder\")\n",
    "encoder.summary()"
   ]
  },
  {
   "cell_type": "markdown",
   "metadata": {},
   "source": [
    "### Decoder"
   ]
  },
  {
   "cell_type": "code",
   "execution_count": 5,
   "metadata": {},
   "outputs": [
    {
     "name": "stdout",
     "output_type": "stream",
     "text": [
      "Model: \"decoder\"\n",
      "_________________________________________________________________\n",
      " Layer (type)                Output Shape              Param #   \n"
     ]
    },
    {
     "name": "stdout",
     "output_type": "stream",
     "text": [
      "=================================================================\n",
      " input_2 (InputLayer)        [(None, 2)]               0         \n",
      "                                                                 \n",
      " dense_1 (Dense)             (None, 528000)            1584000   \n",
      "                                                                 \n",
      " reshape (Reshape)           (None, 750, 11, 64)       0         \n",
      "                                                                 \n",
      " conv2d_transpose (Conv2DTr  (None, 750, 11, 64)       36928     \n",
      " anspose)                                                        \n",
      "                                                                 \n",
      " conv2d_transpose_1 (Conv2D  (None, 1500, 22, 64)      36928     \n",
      " Transpose)                                                      \n",
      "                                                                 \n",
      " conv2d_transpose_2 (Conv2D  (None, 1500, 22, 1)       577       \n",
      " Transpose)                                                      \n",
      "                                                                 \n",
      "=================================================================\n",
      "Total params: 1658433 (6.33 MB)\n",
      "Trainable params: 1658433 (6.33 MB)\n",
      "Non-trainable params: 0 (0.00 Byte)\n",
      "_________________________________________________________________\n"
     ]
    }
   ],
   "source": [
    "# Define decoder model. should have output shape (vector_size, alphabet_size, 1)\n",
    "\n",
    "inputs  = keras.Input(shape=(latent_dim,))\n",
    "x       = layers.Dense(vector_size // 2 * alphabet_size // 2 * 64, activation=\"relu\")(inputs)\n",
    "x       = layers.Reshape((vector_size // 2, alphabet_size // 2, 64))(x)\n",
    "x       = layers.Conv2DTranspose(64, 3, strides=1, padding=\"same\", activation=\"relu\")(x)\n",
    "x       = layers.Conv2DTranspose(64, 3, strides=2, padding=\"same\", activation=\"relu\")(x)\n",
    "# x       = layers.Conv2DTranspose(32, 3, strides=2, padding=\"same\", activation=\"relu\")(x)\n",
    "outputs = layers.Conv2DTranspose(1,  3, padding=\"same\", activation=\"sigmoid\")(x)\n",
    "\n",
    "decoder = keras.Model(inputs, outputs, name=\"decoder\")\n",
    "decoder.summary()"
   ]
  },
  {
   "cell_type": "markdown",
   "metadata": {},
   "source": [
    "## Train the VAE"
   ]
  },
  {
   "cell_type": "code",
   "execution_count": 6,
   "metadata": {},
   "outputs": [],
   "source": [
    "x_train = x_train.reshape(x_train.shape[0], x_train.shape[1], x_train.shape[2], 1)\n",
    "x_test = x_test.reshape(x_test.shape[0], x_test.shape[1], x_test.shape[2], 1)\n",
    "dataset = np.concatenate([x_train, x_test], axis=0)"
   ]
  },
  {
   "cell_type": "code",
   "execution_count": 7,
   "metadata": {},
   "outputs": [
    {
     "name": "stderr",
     "output_type": "stream",
     "text": [
      "2024-03-23 06:53:40.980446: W external/local_tsl/tsl/framework/cpu_allocator_impl.cc:83] Allocation of 400356000 exceeds 10% of free system memory.\n",
      "2024-03-23 06:53:41.226426: W external/local_tsl/tsl/framework/cpu_allocator_impl.cc:83] Allocation of 400356000 exceeds 10% of free system memory.\n"
     ]
    },
    {
     "name": "stdout",
     "output_type": "stream",
     "text": [
      "Epoch 1/30\n"
     ]
    },
    {
     "name": "stderr",
     "output_type": "stream",
     "text": [
      "2024-03-23 06:53:42.682401: I external/local_xla/xla/stream_executor/cuda/cuda_dnn.cc:454] Loaded cuDNN version 8907\n",
      "2024-03-23 06:53:47.561970: I external/local_xla/xla/service/service.cc:168] XLA service 0x7fd20cf22250 initialized for platform CUDA (this does not guarantee that XLA will be used). Devices:\n",
      "2024-03-23 06:53:47.562012: I external/local_xla/xla/service/service.cc:176]   StreamExecutor device (0): Tesla T4, Compute Capability 7.5\n",
      "2024-03-23 06:53:47.567053: I tensorflow/compiler/mlir/tensorflow/utils/dump_mlir_util.cc:269] disabling MLIR crash reproducer, set env var `MLIR_CRASH_REPRODUCER_DIRECTORY` to enable.\n",
      "WARNING: All log messages before absl::InitializeLog() is called are written to STDERR\n",
      "I0000 00:00:1711176827.636619   34837 device_compiler.h:186] Compiled cluster using XLA!  This line is logged at most once for the lifetime of the process.\n"
     ]
    },
    {
     "name": "stdout",
     "output_type": "stream",
     "text": [
      "24/24 [==============================] - 26s 574ms/step - loss: 16363.1158 - reconstruction_loss: 8257.5029 - kl_loss: 1266.7114\n",
      "Epoch 2/30\n",
      "24/24 [==============================] - 8s 334ms/step - loss: 1353.0337 - reconstruction_loss: 1278.0284 - kl_loss: 11.5341\n",
      "Epoch 3/30\n",
      "24/24 [==============================] - 8s 338ms/step - loss: 1107.1473 - reconstruction_loss: 1097.0563 - kl_loss: 6.5989\n",
      "Epoch 4/30\n",
      "24/24 [==============================] - 8s 341ms/step - loss: 1053.9423 - reconstruction_loss: 1028.5475 - kl_loss: 6.1347\n",
      "Epoch 5/30\n",
      "24/24 [==============================] - 8s 343ms/step - loss: 1010.9942 - reconstruction_loss: 995.2991 - kl_loss: 6.1588\n",
      "Epoch 6/30\n",
      "24/24 [==============================] - 8s 347ms/step - loss: 1011.3631 - reconstruction_loss: 975.8294 - kl_loss: 6.1376\n",
      "Epoch 7/30\n",
      "24/24 [==============================] - 8s 352ms/step - loss: 961.7528 - reconstruction_loss: 957.6442 - kl_loss: 6.0674\n",
      "Epoch 8/30\n",
      "24/24 [==============================] - 9s 355ms/step - loss: 959.9940 - reconstruction_loss: 946.2559 - kl_loss: 5.9102\n",
      "Epoch 9/30\n",
      "24/24 [==============================] - 11s 480ms/step - loss: 945.2323 - reconstruction_loss: 938.2037 - kl_loss: 5.7662\n",
      "Epoch 10/30\n",
      "24/24 [==============================] - 16s 686ms/step - loss: 940.1534 - reconstruction_loss: 934.9322 - kl_loss: 5.5994\n",
      "Epoch 11/30\n",
      "24/24 [==============================] - 22s 928ms/step - loss: 937.2163 - reconstruction_loss: 927.2565 - kl_loss: 5.3926\n",
      "Epoch 12/30\n",
      "24/24 [==============================] - 25s 1s/step - loss: 916.8591 - reconstruction_loss: 925.0820 - kl_loss: 5.1825\n",
      "Epoch 13/30\n",
      "24/24 [==============================] - 27s 1s/step - loss: 941.4072 - reconstruction_loss: 915.6285 - kl_loss: 5.0794\n",
      "Epoch 14/30\n",
      "24/24 [==============================] - 29s 1s/step - loss: 923.5948 - reconstruction_loss: 904.9048 - kl_loss: 4.9745\n",
      "Epoch 15/30\n",
      "24/24 [==============================] - 32s 1s/step - loss: 909.1434 - reconstruction_loss: 896.8264 - kl_loss: 4.7118\n",
      "Epoch 16/30\n",
      "24/24 [==============================] - 33s 1s/step - loss: 896.3676 - reconstruction_loss: 891.4719 - kl_loss: 4.5038\n",
      "Epoch 17/30\n",
      "24/24 [==============================] - 32s 1s/step - loss: 887.5330 - reconstruction_loss: 882.7493 - kl_loss: 4.5314\n",
      "Epoch 18/30\n",
      "24/24 [==============================] - 34s 1s/step - loss: 895.1778 - reconstruction_loss: 875.8403 - kl_loss: 4.6580\n",
      "Epoch 19/30\n",
      "24/24 [==============================] - 32s 1s/step - loss: 887.0273 - reconstruction_loss: 873.7083 - kl_loss: 4.8516\n",
      "Epoch 20/30\n",
      "24/24 [==============================] - 33s 1s/step - loss: 884.9910 - reconstruction_loss: 864.8806 - kl_loss: 5.0192\n",
      "Epoch 21/30\n",
      "24/24 [==============================] - 33s 1s/step - loss: 862.3826 - reconstruction_loss: 860.5524 - kl_loss: 5.1644\n",
      "Epoch 22/30\n",
      "24/24 [==============================] - 32s 1s/step - loss: 859.8307 - reconstruction_loss: 856.3257 - kl_loss: 5.2631\n",
      "Epoch 23/30\n",
      "24/24 [==============================] - 30s 1s/step - loss: 859.9433 - reconstruction_loss: 854.5020 - kl_loss: 5.3489\n",
      "Epoch 24/30\n",
      "24/24 [==============================] - 31s 1s/step - loss: 858.4225 - reconstruction_loss: 850.4330 - kl_loss: 5.3261\n",
      "Epoch 25/30\n",
      "24/24 [==============================] - 32s 1s/step - loss: 841.8829 - reconstruction_loss: 848.3421 - kl_loss: 5.3887\n",
      "Epoch 26/30\n",
      "24/24 [==============================] - 32s 1s/step - loss: 856.6638 - reconstruction_loss: 844.0178 - kl_loss: 5.3847\n",
      "Epoch 27/30\n",
      "24/24 [==============================] - 32s 1s/step - loss: 843.0880 - reconstruction_loss: 842.2347 - kl_loss: 5.4224\n",
      "Epoch 28/30\n",
      "24/24 [==============================] - 34s 1s/step - loss: 843.4506 - reconstruction_loss: 839.1977 - kl_loss: 5.4899\n",
      "Epoch 29/30\n",
      "24/24 [==============================] - 32s 1s/step - loss: 838.6857 - reconstruction_loss: 834.6260 - kl_loss: 5.5194\n",
      "Epoch 30/30\n",
      "24/24 [==============================] - 31s 1s/step - loss: 832.8204 - reconstruction_loss: 832.4504 - kl_loss: 5.4778\n"
     ]
    },
    {
     "data": {
      "text/plain": [
       "<keras.src.callbacks.History at 0x7fd345ab1c90>"
      ]
     },
     "execution_count": 7,
     "metadata": {},
     "output_type": "execute_result"
    }
   ],
   "source": [
    "vae = VAE(encoder, decoder)\n",
    "vae.compile(optimizer=keras.optimizers.Adam())\n",
    "vae.fit(dataset, epochs=30, batch_size=128)\n"
   ]
  },
  {
   "cell_type": "code",
   "execution_count": null,
   "metadata": {},
   "outputs": [],
   "source": []
  },
  {
   "cell_type": "markdown",
   "metadata": {},
   "source": [
    "## References\n",
    "\n",
    "- <https://keras.io/examples/generative/vae/>"
   ]
  },
  {
   "cell_type": "markdown",
   "metadata": {},
   "source": []
  }
 ],
 "metadata": {
  "kernelspec": {
   "display_name": "intelligent-antibodies",
   "language": "python",
   "name": "intelligent-antibodies"
  },
  "language_info": {
   "codemirror_mode": {
    "name": "ipython",
    "version": 3
   },
   "file_extension": ".py",
   "mimetype": "text/x-python",
   "name": "python",
   "nbconvert_exporter": "python",
   "pygments_lexer": "ipython3",
   "version": "3.11.8"
  }
 },
 "nbformat": 4,
 "nbformat_minor": 2
}
