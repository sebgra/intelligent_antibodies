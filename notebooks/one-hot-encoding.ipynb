{
 "cells": [
  {
   "cell_type": "markdown",
   "metadata": {},
   "source": [
    "## Parameters"
   ]
  },
  {
   "cell_type": "code",
   "execution_count": 1,
   "metadata": {},
   "outputs": [],
   "source": [
    "vocab_size           = 5000\n",
    "hide_most_frequently = 0\n",
    "\n",
    "epochs               = 10\n",
    "batch_size           = 512\n",
    "fit_verbosity        = 1"
   ]
  },
  {
   "cell_type": "code",
   "execution_count": 2,
   "metadata": {},
   "outputs": [],
   "source": [
    "run_dir = \"run/\""
   ]
  },
  {
   "cell_type": "code",
   "execution_count": 3,
   "metadata": {},
   "outputs": [
    {
     "name": "stderr",
     "output_type": "stream",
     "text": [
      "2024-03-23 00:10:37.274326: I tensorflow/core/util/port.cc:113] oneDNN custom operations are on. You may see slightly different numerical results due to floating-point round-off errors from different computation orders. To turn them off, set the environment variable `TF_ENABLE_ONEDNN_OPTS=0`.\n",
      "2024-03-23 00:10:37.328454: E external/local_xla/xla/stream_executor/cuda/cuda_dnn.cc:9261] Unable to register cuDNN factory: Attempting to register factory for plugin cuDNN when one has already been registered\n",
      "2024-03-23 00:10:37.328511: E external/local_xla/xla/stream_executor/cuda/cuda_fft.cc:607] Unable to register cuFFT factory: Attempting to register factory for plugin cuFFT when one has already been registered\n",
      "2024-03-23 00:10:37.329469: E external/local_xla/xla/stream_executor/cuda/cuda_blas.cc:1515] Unable to register cuBLAS factory: Attempting to register factory for plugin cuBLAS when one has already been registered\n",
      "2024-03-23 00:10:37.342552: I tensorflow/core/platform/cpu_feature_guard.cc:182] This TensorFlow binary is optimized to use available CPU instructions in performance-critical operations.\n",
      "To enable the following instructions: SSE4.1 SSE4.2 AVX AVX2 AVX512F AVX512_VNNI FMA, in other operations, rebuild TensorFlow with the appropriate compiler flags.\n"
     ]
    }
   ],
   "source": [
    "import os\n",
    "os.environ['KERAS_BACKEND'] = \"torch\"\n",
    "import keras\n",
    "\n",
    "import numpy as np\n",
    "import pandas as pd\n",
    "import matplotlib.pyplot as plt\n",
    "\n",
    "from sklearn.preprocessing import OrdinalEncoder\n",
    "from sklearn.model_selection import train_test_split"
   ]
  },
  {
   "cell_type": "code",
   "execution_count": 4,
   "metadata": {},
   "outputs": [],
   "source": [
    "%load_ext autoreload\n",
    "%autoreload 2"
   ]
  },
  {
   "cell_type": "code",
   "execution_count": 5,
   "metadata": {},
   "outputs": [],
   "source": [
    "from modules import encoding"
   ]
  },
  {
   "cell_type": "markdown",
   "metadata": {},
   "source": [
    "## Retrieve data\n"
   ]
  },
  {
   "cell_type": "code",
   "execution_count": 6,
   "metadata": {},
   "outputs": [
    {
     "data": {
      "text/html": [
       "<div>\n",
       "<style scoped>\n",
       "    .dataframe tbody tr th:only-of-type {\n",
       "        vertical-align: middle;\n",
       "    }\n",
       "\n",
       "    .dataframe tbody tr th {\n",
       "        vertical-align: top;\n",
       "    }\n",
       "\n",
       "    .dataframe thead th {\n",
       "        text-align: right;\n",
       "    }\n",
       "</style>\n",
       "<table border=\"1\" class=\"dataframe\">\n",
       "  <thead>\n",
       "    <tr style=\"text-align: right;\">\n",
       "      <th></th>\n",
       "      <th>ab</th>\n",
       "      <th>ag</th>\n",
       "      <th>interaction</th>\n",
       "    </tr>\n",
       "  </thead>\n",
       "  <tbody>\n",
       "    <tr>\n",
       "      <th>0</th>\n",
       "      <td>5kel|ab</td>\n",
       "      <td>5kel|ag</td>\n",
       "      <td>1</td>\n",
       "    </tr>\n",
       "    <tr>\n",
       "      <th>1</th>\n",
       "      <td>5kel|ab</td>\n",
       "      <td>6cwt|ag</td>\n",
       "      <td>0</td>\n",
       "    </tr>\n",
       "    <tr>\n",
       "      <th>2</th>\n",
       "      <td>5kel|ab</td>\n",
       "      <td>4fp8|ag</td>\n",
       "      <td>0</td>\n",
       "    </tr>\n",
       "    <tr>\n",
       "      <th>3</th>\n",
       "      <td>5kel|ab</td>\n",
       "      <td>4yjz|ag</td>\n",
       "      <td>0</td>\n",
       "    </tr>\n",
       "    <tr>\n",
       "      <th>4</th>\n",
       "      <td>5kel|ab</td>\n",
       "      <td>6j15|ag</td>\n",
       "      <td>0</td>\n",
       "    </tr>\n",
       "  </tbody>\n",
       "</table>\n",
       "</div>"
      ],
      "text/plain": [
       "        ab       ag  interaction\n",
       "0  5kel|ab  5kel|ag            1\n",
       "1  5kel|ab  6cwt|ag            0\n",
       "2  5kel|ab  4fp8|ag            0\n",
       "3  5kel|ab  4yjz|ag            0\n",
       "4  5kel|ab  6j15|ag            0"
      ]
     },
     "execution_count": 6,
     "metadata": {},
     "output_type": "execute_result"
    }
   ],
   "source": [
    "df_match = pd.read_csv(\"../data/SAbDab/data.csv\", sep=\";\")\n",
    "# df_match[[\"ab_id\", \"ab_type\"]] = df_match[\"ab\"].str.split('|', n=1, expand=True)\n",
    "# df_match[[\"ag_id\", \"ag_type\"]] = df_match[\"ag\"].str.split('|', n=1, expand=True)\n",
    "df_match.head()"
   ]
  },
  {
   "cell_type": "code",
   "execution_count": 7,
   "metadata": {},
   "outputs": [
    {
     "data": {
      "text/html": [
       "<div>\n",
       "<style scoped>\n",
       "    .dataframe tbody tr th:only-of-type {\n",
       "        vertical-align: middle;\n",
       "    }\n",
       "\n",
       "    .dataframe tbody tr th {\n",
       "        vertical-align: top;\n",
       "    }\n",
       "\n",
       "    .dataframe thead th {\n",
       "        text-align: right;\n",
       "    }\n",
       "</style>\n",
       "<table border=\"1\" class=\"dataframe\">\n",
       "  <thead>\n",
       "    <tr style=\"text-align: right;\">\n",
       "      <th></th>\n",
       "      <th>seq_id</th>\n",
       "      <th>specie</th>\n",
       "      <th>sequence</th>\n",
       "    </tr>\n",
       "  </thead>\n",
       "  <tbody>\n",
       "    <tr>\n",
       "      <th>0</th>\n",
       "      <td>5kel|ag</td>\n",
       "      <td>Zaire ebolavirus (strain Mayinga-76) (128952)</td>\n",
       "      <td>IPLGVIHNSTLQVSDVDKLVCRDKLSSTNQLRSVGLNLEGNGVATD...</td>\n",
       "    </tr>\n",
       "    <tr>\n",
       "      <th>1</th>\n",
       "      <td>5kel|ag</td>\n",
       "      <td>Zaire ebolavirus (128952)</td>\n",
       "      <td>EAIVNAQPKCNPNLHYWTTQDEGAAIGLAWIPYFGPAAEGIYTEGL...</td>\n",
       "    </tr>\n",
       "    <tr>\n",
       "      <th>2</th>\n",
       "      <td>5kel|ab</td>\n",
       "      <td>Homo sapiens (9606)</td>\n",
       "      <td>EVQLQESGGGLMQPGGSMKLSCVASGFTFSNYWMNWVRQSPEKGLE...</td>\n",
       "    </tr>\n",
       "    <tr>\n",
       "      <th>3</th>\n",
       "      <td>5kel|ab</td>\n",
       "      <td>Homo sapiens (9606)</td>\n",
       "      <td>DIQMTQSPASLSVSVGETVSITCRASENIYSSLAWYQQKQGKSPQL...</td>\n",
       "    </tr>\n",
       "    <tr>\n",
       "      <th>4</th>\n",
       "      <td>5kel|ab</td>\n",
       "      <td>Homo sapiens (9606)</td>\n",
       "      <td>DVKLLESGGGLVQPGGSLKLSCAASGFSLSTSGVGVGWFRQPSGKG...</td>\n",
       "    </tr>\n",
       "  </tbody>\n",
       "</table>\n",
       "</div>"
      ],
      "text/plain": [
       "    seq_id                                         specie  \\\n",
       "0  5kel|ag  Zaire ebolavirus (strain Mayinga-76) (128952)   \n",
       "1  5kel|ag                      Zaire ebolavirus (128952)   \n",
       "2  5kel|ab                            Homo sapiens (9606)   \n",
       "3  5kel|ab                            Homo sapiens (9606)   \n",
       "4  5kel|ab                            Homo sapiens (9606)   \n",
       "\n",
       "                                            sequence  \n",
       "0  IPLGVIHNSTLQVSDVDKLVCRDKLSSTNQLRSVGLNLEGNGVATD...  \n",
       "1  EAIVNAQPKCNPNLHYWTTQDEGAAIGLAWIPYFGPAAEGIYTEGL...  \n",
       "2  EVQLQESGGGLMQPGGSMKLSCVASGFTFSNYWMNWVRQSPEKGLE...  \n",
       "3  DIQMTQSPASLSVSVGETVSITCRASENIYSSLAWYQQKQGKSPQL...  \n",
       "4  DVKLLESGGGLVQPGGSLKLSCAASGFSLSTSGVGVGWFRQPSGKG...  "
      ]
     },
     "execution_count": 7,
     "metadata": {},
     "output_type": "execute_result"
    }
   ],
   "source": [
    "df_seq = pd.read_csv(\"../data/SAbDab/sequences.csv\", sep=\";\")\n",
    "df_seq.head()"
   ]
  },
  {
   "cell_type": "code",
   "execution_count": 8,
   "metadata": {},
   "outputs": [],
   "source": [
    "seq = df_seq[\"sequence\"]\n",
    "encoder = encoding.alphabet_one_hot(alphabet=encoding.AMINO_ACID_ALPHABET)"
   ]
  },
  {
   "cell_type": "code",
   "execution_count": 10,
   "metadata": {},
   "outputs": [],
   "source": [
    "encoded = encoding.one_hot_encode_sequence(\"MYA\", encoder, 100)"
   ]
  },
  {
   "cell_type": "code",
   "execution_count": 11,
   "metadata": {},
   "outputs": [],
   "source": [
    "vector_size = 1500\n",
    "seq_encoded = encoding.one_hot_encoder(seq, encoder, )"
   ]
  },
  {
   "cell_type": "code",
   "execution_count": 12,
   "metadata": {},
   "outputs": [],
   "source": [
    "ALPHABET_SIZE = len(encoding.AMINO_ACID_ALPHABET)"
   ]
  },
  {
   "cell_type": "markdown",
   "metadata": {},
   "source": [
    "### Split dataset"
   ]
  },
  {
   "cell_type": "code",
   "execution_count": 13,
   "metadata": {},
   "outputs": [],
   "source": [
    "df_seq[[\"seq_rcpb\", \"seq_type\"]] = df_seq[\"seq_id\"].str.split('|',  n=1, expand=True)\n",
    "ordinal_encoder = OrdinalEncoder()\n",
    "enc_seq_type = ordinal_encoder.fit_transform(df_seq[[\"seq_type\"]])"
   ]
  },
  {
   "cell_type": "code",
   "execution_count": 14,
   "metadata": {},
   "outputs": [],
   "source": [
    "X = seq_encoded\n",
    "y = enc_seq_type"
   ]
  },
  {
   "cell_type": "code",
   "execution_count": 15,
   "metadata": {},
   "outputs": [],
   "source": [
    "X_train, X_test, y_train, y_test = train_test_split(X, y, test_size=0.2, random_state=42)"
   ]
  },
  {
   "cell_type": "markdown",
   "metadata": {},
   "source": [
    "## Model"
   ]
  },
  {
   "cell_type": "code",
   "execution_count": 16,
   "metadata": {},
   "outputs": [
    {
     "name": "stdout",
     "output_type": "stream",
     "text": [
      "Model: \"abag_classifier\"\n",
      "_________________________________________________________________\n",
      " Layer (type)                Output Shape              Param #   \n",
      "=================================================================\n",
      " flatten (Flatten)           (None, 33000)             0         \n",
      "                                                                 \n",
      " dense (Dense)               (None, 32)                1056032   \n",
      "                                                                 \n",
      " dense_1 (Dense)             (None, 32)                1056      \n",
      "                                                                 \n",
      " dense_2 (Dense)             (None, 1)                 33        \n",
      "                                                                 \n",
      "=================================================================\n",
      "Total params: 1057121 (4.03 MB)\n",
      "Trainable params: 1057121 (4.03 MB)\n",
      "Non-trainable params: 0 (0.00 Byte)\n",
      "_________________________________________________________________\n"
     ]
    },
    {
     "name": "stderr",
     "output_type": "stream",
     "text": [
      "2024-03-23 00:10:42.326569: E external/local_xla/xla/stream_executor/cuda/cuda_driver.cc:274] failed call to cuInit: CUDA_ERROR_NO_DEVICE: no CUDA-capable device is detected\n"
     ]
    }
   ],
   "source": [
    "model = keras.Sequential(name=\"abag_classifier\")\n",
    "\n",
    "model.add(keras.layers.Input(shape=(vector_size, ALPHABET_SIZE)))\n",
    "model.add(keras.layers.Flatten())\n",
    "model.add(keras.layers.Dense( 32, activation='relu'))\n",
    "model.add(keras.layers.Dense( 32, activation='relu'))\n",
    "model.add(keras.layers.Dense( 1,  activation='sigmoid'))\n",
    "\n",
    "    \n",
    "model.compile(optimizer = 'rmsprop',\n",
    "                  loss      = 'binary_crossentropy',\n",
    "                  metrics   = ['accuracy'])\n",
    "\n",
    "model.summary()"
   ]
  },
  {
   "cell_type": "markdown",
   "metadata": {},
   "source": [
    "## Train the model"
   ]
  },
  {
   "cell_type": "markdown",
   "metadata": {},
   "source": [
    "### Add callback"
   ]
  },
  {
   "cell_type": "code",
   "execution_count": 17,
   "metadata": {},
   "outputs": [],
   "source": [
    "os.makedirs(f'{run_dir}/models', mode=0o750, exist_ok=True)\n",
    "save_dir = f'{run_dir}/models/best_model.keras'\n",
    "\n",
    "savemodel_callback = keras.callbacks.ModelCheckpoint(filepath=save_dir, monitor='val_accuracy', mode='max', save_best_only=True)"
   ]
  },
  {
   "cell_type": "markdown",
   "metadata": {},
   "source": [
    "### Train it"
   ]
  },
  {
   "cell_type": "code",
   "execution_count": null,
   "metadata": {},
   "outputs": [],
   "source": []
  },
  {
   "cell_type": "code",
   "execution_count": 18,
   "metadata": {},
   "outputs": [
    {
     "name": "stdout",
     "output_type": "stream",
     "text": [
      "Epoch 1/10\n",
      "5/5 [==============================] - 1s 138ms/step - loss: 0.5564 - accuracy: 0.7572 - val_loss: 0.4492 - val_accuracy: 0.8451\n",
      "Epoch 2/10\n",
      "5/5 [==============================] - 0s 63ms/step - loss: 0.3829 - accuracy: 0.8702 - val_loss: 0.3944 - val_accuracy: 0.8600\n",
      "Epoch 3/10\n",
      "5/5 [==============================] - 0s 62ms/step - loss: 0.3175 - accuracy: 0.8862 - val_loss: 0.4021 - val_accuracy: 0.8682\n",
      "Epoch 4/10\n",
      "5/5 [==============================] - 0s 50ms/step - loss: 0.2805 - accuracy: 0.9056 - val_loss: 0.3625 - val_accuracy: 0.8550\n",
      "Epoch 5/10\n",
      "5/5 [==============================] - 0s 52ms/step - loss: 0.2609 - accuracy: 0.9101 - val_loss: 0.3545 - val_accuracy: 0.8682\n",
      "Epoch 6/10\n",
      "5/5 [==============================] - 0s 61ms/step - loss: 0.2269 - accuracy: 0.9229 - val_loss: 0.3641 - val_accuracy: 0.8699\n",
      "Epoch 7/10\n",
      "5/5 [==============================] - 0s 50ms/step - loss: 0.2214 - accuracy: 0.9213 - val_loss: 0.3525 - val_accuracy: 0.8649\n",
      "Epoch 8/10\n",
      "5/5 [==============================] - 0s 63ms/step - loss: 0.1978 - accuracy: 0.9303 - val_loss: 0.3923 - val_accuracy: 0.8748\n",
      "Epoch 9/10\n",
      "5/5 [==============================] - 0s 41ms/step - loss: 0.2034 - accuracy: 0.9262 - val_loss: 0.3618 - val_accuracy: 0.8534\n",
      "Epoch 10/10\n",
      "5/5 [==============================] - 0s 42ms/step - loss: 0.1865 - accuracy: 0.9340 - val_loss: 0.3525 - val_accuracy: 0.8748\n",
      "CPU times: user 11.5 s, sys: 763 ms, total: 12.2 s\n",
      "Wall time: 4.05 s\n"
     ]
    }
   ],
   "source": [
    "%%time\n",
    "\n",
    "history = model.fit(X_train,\n",
    "                    y_train,\n",
    "                    epochs          = epochs,\n",
    "                    batch_size      = batch_size,\n",
    "                    validation_data = (X_test, y_test),\n",
    "                    verbose         = fit_verbosity,\n",
    "                    callbacks       = [savemodel_callback])"
   ]
  },
  {
   "cell_type": "markdown",
   "metadata": {},
   "source": []
  },
  {
   "cell_type": "code",
   "execution_count": 21,
   "metadata": {},
   "outputs": [
    {
     "data": {
      "text/plain": [
       "(2426, 1500, 22)"
      ]
     },
     "execution_count": 21,
     "metadata": {},
     "output_type": "execute_result"
    }
   ],
   "source": [
    "X_train.shape"
   ]
  },
  {
   "cell_type": "code",
   "execution_count": 20,
   "metadata": {},
   "outputs": [
    {
     "data": {
      "text/plain": [
       "array([[1.],\n",
       "       [1.],\n",
       "       [1.],\n",
       "       ...,\n",
       "       [0.],\n",
       "       [1.],\n",
       "       [1.]])"
      ]
     },
     "execution_count": 20,
     "metadata": {},
     "output_type": "execute_result"
    }
   ],
   "source": [
    "y_train"
   ]
  },
  {
   "cell_type": "code",
   "execution_count": null,
   "metadata": {},
   "outputs": [],
   "source": []
  }
 ],
 "metadata": {
  "kernelspec": {
   "display_name": "intelligent-antibodies",
   "language": "python",
   "name": "python3"
  },
  "language_info": {
   "codemirror_mode": {
    "name": "ipython",
    "version": 3
   },
   "file_extension": ".py",
   "mimetype": "text/x-python",
   "name": "python",
   "nbconvert_exporter": "python",
   "pygments_lexer": "ipython3",
   "version": "3.11.8"
  }
 },
 "nbformat": 4,
 "nbformat_minor": 2
}
