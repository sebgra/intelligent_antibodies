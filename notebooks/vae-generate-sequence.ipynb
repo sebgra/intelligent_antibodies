{
 "cells": [
  {
   "cell_type": "markdown",
   "metadata": {},
   "source": []
  },
  {
   "cell_type": "code",
   "execution_count": 1,
   "metadata": {},
   "outputs": [],
   "source": [
    "%load_ext autoreload\n",
    "%autoreload 2"
   ]
  },
  {
   "cell_type": "code",
   "execution_count": 10,
   "metadata": {},
   "outputs": [],
   "source": [
    "import os\n",
    "os.environ['KERAS_BACKEND'] = 'tensorflow'\n",
    "\n",
    "import keras\n",
    "from keras import layers\n",
    "import tensorflow as tf\n",
    "\n",
    "import numpy as np\n",
    "\n",
    "from modules.models.VAE import VAE\n",
    "from modules.models.VAEFull import VAEFull\n",
    "\n",
    "import matplotlib\n",
    "import matplotlib.pyplot as plt\n",
    "# from barviz import Simplex\n",
    "# from barviz import Collection\n",
    "\n",
    "from modules.encoding import ProteinOneHotEncoder\n",
    "\n",
    "import sys"
   ]
  },
  {
   "cell_type": "code",
   "execution_count": 3,
   "metadata": {},
   "outputs": [
    {
     "name": "stderr",
     "output_type": "stream",
     "text": [
      "2024-03-24 00:34:05.779396: I external/local_xla/xla/stream_executor/cuda/cuda_executor.cc:901] successful NUMA node read from SysFS had negative value (-1), but there must be at least one NUMA node, so returning NUMA node zero. See more at https://github.com/torvalds/linux/blob/v6.0/Documentation/ABI/testing/sysfs-bus-pci#L344-L355\n",
      "2024-03-24 00:34:05.784186: I external/local_xla/xla/stream_executor/cuda/cuda_executor.cc:901] successful NUMA node read from SysFS had negative value (-1), but there must be at least one NUMA node, so returning NUMA node zero. See more at https://github.com/torvalds/linux/blob/v6.0/Documentation/ABI/testing/sysfs-bus-pci#L344-L355\n",
      "2024-03-24 00:34:05.787047: I external/local_xla/xla/stream_executor/cuda/cuda_executor.cc:901] successful NUMA node read from SysFS had negative value (-1), but there must be at least one NUMA node, so returning NUMA node zero. See more at https://github.com/torvalds/linux/blob/v6.0/Documentation/ABI/testing/sysfs-bus-pci#L344-L355\n"
     ]
    }
   ],
   "source": [
    "gpus = tf.config.experimental.list_physical_devices('GPU')\n",
    "if gpus:\n",
    "  try:\n",
    "    tf.config.experimental.set_virtual_device_configuration(\n",
    "        gpus[0],[tf.config.experimental.VirtualDeviceConfiguration(memory_limit=5120)])\n",
    "  except RuntimeError as e:\n",
    "    print(e)\n",
    "\n"
   ]
  },
  {
   "cell_type": "markdown",
   "metadata": {},
   "source": [
    "### 1.2 - Parameters"
   ]
  },
  {
   "cell_type": "code",
   "execution_count": 4,
   "metadata": {},
   "outputs": [],
   "source": [
    "scale      = 1\n",
    "seed       = 123\n",
    "models_dir = './run'"
   ]
  },
  {
   "cell_type": "markdown",
   "metadata": {},
   "source": [
    "## Step 3 - Reload best model"
   ]
  },
  {
   "cell_type": "code",
   "execution_count": 5,
   "metadata": {},
   "outputs": [
    {
     "name": "stderr",
     "output_type": "stream",
     "text": [
      "2024-03-24 00:34:06.109298: I external/local_xla/xla/stream_executor/cuda/cuda_executor.cc:901] successful NUMA node read from SysFS had negative value (-1), but there must be at least one NUMA node, so returning NUMA node zero. See more at https://github.com/torvalds/linux/blob/v6.0/Documentation/ABI/testing/sysfs-bus-pci#L344-L355\n",
      "2024-03-24 00:34:06.112591: I external/local_xla/xla/stream_executor/cuda/cuda_executor.cc:901] successful NUMA node read from SysFS had negative value (-1), but there must be at least one NUMA node, so returning NUMA node zero. See more at https://github.com/torvalds/linux/blob/v6.0/Documentation/ABI/testing/sysfs-bus-pci#L344-L355\n",
      "2024-03-24 00:34:06.115468: I external/local_xla/xla/stream_executor/cuda/cuda_executor.cc:901] successful NUMA node read from SysFS had negative value (-1), but there must be at least one NUMA node, so returning NUMA node zero. See more at https://github.com/torvalds/linux/blob/v6.0/Documentation/ABI/testing/sysfs-bus-pci#L344-L355\n",
      "2024-03-24 00:34:06.420040: I external/local_xla/xla/stream_executor/cuda/cuda_executor.cc:901] successful NUMA node read from SysFS had negative value (-1), but there must be at least one NUMA node, so returning NUMA node zero. See more at https://github.com/torvalds/linux/blob/v6.0/Documentation/ABI/testing/sysfs-bus-pci#L344-L355\n",
      "2024-03-24 00:34:06.421778: I external/local_xla/xla/stream_executor/cuda/cuda_executor.cc:901] successful NUMA node read from SysFS had negative value (-1), but there must be at least one NUMA node, so returning NUMA node zero. See more at https://github.com/torvalds/linux/blob/v6.0/Documentation/ABI/testing/sysfs-bus-pci#L344-L355\n",
      "2024-03-24 00:34:06.423347: I external/local_xla/xla/stream_executor/cuda/cuda_executor.cc:901] successful NUMA node read from SysFS had negative value (-1), but there must be at least one NUMA node, so returning NUMA node zero. See more at https://github.com/torvalds/linux/blob/v6.0/Documentation/ABI/testing/sysfs-bus-pci#L344-L355\n",
      "2024-03-24 00:34:06.424867: I tensorflow/core/common_runtime/gpu/gpu_device.cc:1929] Created device /job:localhost/replica:0/task:0/device:GPU:0 with 5120 MB memory:  -> device: 0, name: Tesla T4, pci bus id: 0000:00:07.0, compute capability: 7.5\n"
     ]
    },
    {
     "name": "stdout",
     "output_type": "stream",
     "text": [
      "Reloaded.\n"
     ]
    }
   ],
   "source": [
    "vector_size = 200\n",
    "alphabet_size = 18\n",
    "\n",
    "vae_full = VAEFull(200, 18)\n",
    "vae_full.vae.reload(f'{models_dir}/vae-one-hot-{vector_size}.keras')"
   ]
  },
  {
   "cell_type": "code",
   "execution_count": 6,
   "metadata": {},
   "outputs": [],
   "source": [
    "vae = vae_full.vae\n"
   ]
  },
  {
   "cell_type": "markdown",
   "metadata": {},
   "source": [
    "## Step 4 - Sequence reconstruction"
   ]
  },
  {
   "cell_type": "code",
   "execution_count": 35,
   "metadata": {},
   "outputs": [],
   "source": [
    "z = tf.random.normal(shape=[16, 2])\n",
    "\n",
    "x_reconst         = vae_full.decoder.predict(z,      verbose=0)\n",
    "\n",
    "latent_dim        = z.shape[1]\n",
    "\n",
    "# labels=[ str(np.round(z[i],1)) for i in range(10) ]\n",
    "# fidle.utils.subtitle('Originals :')\n",
    "# fidle.scrawler.images(x_show,    None, indices='all', columns=10, x_size=2,y_size=2, save_as='01-original')\n",
    "# fidle.utils.subtitle('Reconstructed :')\n",
    "# fidle.scrawler.images(x_reconst, None, indices='all', columns=10, x_size=2,y_size=2, save_as='02-reconstruct')\n"
   ]
  },
  {
   "cell_type": "code",
   "execution_count": 11,
   "metadata": {},
   "outputs": [],
   "source": [
    "encoder = ProteinOneHotEncoder()"
   ]
  },
  {
   "cell_type": "code",
   "execution_count": 26,
   "metadata": {},
   "outputs": [
    {
     "data": {
      "text/plain": [
       "(16, 200, 18, 1)"
      ]
     },
     "execution_count": 26,
     "metadata": {},
     "output_type": "execute_result"
    }
   ],
   "source": [
    "x_reconst.shape"
   ]
  },
  {
   "cell_type": "code",
   "execution_count": 36,
   "metadata": {},
   "outputs": [],
   "source": [
    "x_sample = x_reconst[0].reshape((200, 18))"
   ]
  },
  {
   "cell_type": "code",
   "execution_count": 37,
   "metadata": {},
   "outputs": [],
   "source": [
    "protein = encoder.decode(x_sample)"
   ]
  },
  {
   "cell_type": "code",
   "execution_count": 38,
   "metadata": {},
   "outputs": [
    {
     "data": {
      "text/plain": [
       "['C',\n",
       " 'P',\n",
       " 'I',\n",
       " 'A',\n",
       " 'D',\n",
       " 'H',\n",
       " 'L',\n",
       " 'D',\n",
       " 'Q',\n",
       " 'A',\n",
       " 'A',\n",
       " 'A',\n",
       " 'K',\n",
       " 'H',\n",
       " 'G',\n",
       " 'S',\n",
       " 'L',\n",
       " 'D',\n",
       " 'L',\n",
       " 'A',\n",
       " 'I',\n",
       " 'F',\n",
       " 'K',\n",
       " 'R',\n",
       " 'T',\n",
       " 'Q',\n",
       " 'D',\n",
       " 'A',\n",
       " 'M',\n",
       " 'M',\n",
       " 'A',\n",
       " 'A',\n",
       " 'I',\n",
       " 'P',\n",
       " 'L',\n",
       " 'P',\n",
       " 'Q',\n",
       " 'P',\n",
       " 'G',\n",
       " 'E',\n",
       " 'L',\n",
       " 'L',\n",
       " 'G',\n",
       " 'W',\n",
       " 'E',\n",
       " 'T',\n",
       " 'D',\n",
       " 'T',\n",
       " 'I',\n",
       " 'H',\n",
       " 'T',\n",
       " 'L',\n",
       " 'I',\n",
       " 'F',\n",
       " 'F',\n",
       " 'A',\n",
       " 'C',\n",
       " 'M',\n",
       " 'C',\n",
       " 'A',\n",
       " 'C',\n",
       " 'A',\n",
       " 'K',\n",
       " 'E',\n",
       " 'I',\n",
       " 'H',\n",
       " 'F',\n",
       " 'C',\n",
       " 'G',\n",
       " 'W',\n",
       " 'S',\n",
       " 'A',\n",
       " 'E',\n",
       " 'W',\n",
       " 'D',\n",
       " 'S',\n",
       " 'D',\n",
       " 'F',\n",
       " 'Q',\n",
       " 'L',\n",
       " 'N',\n",
       " 'A',\n",
       " 'I',\n",
       " 'A',\n",
       " 'F',\n",
       " 'L',\n",
       " 'K',\n",
       " 'F',\n",
       " 'D',\n",
       " 'M',\n",
       " 'L',\n",
       " 'N',\n",
       " 'I',\n",
       " 'A',\n",
       " 'F',\n",
       " 'L',\n",
       " 'M',\n",
       " 'M',\n",
       " 'N',\n",
       " 'A',\n",
       " 'P',\n",
       " 'W',\n",
       " 'G',\n",
       " 'F',\n",
       " 'N',\n",
       " 'P',\n",
       " 'T',\n",
       " 'A',\n",
       " 'Q',\n",
       " 'H',\n",
       " 'A',\n",
       " 'E',\n",
       " 'T',\n",
       " 'I',\n",
       " 'H',\n",
       " 'S',\n",
       " 'K',\n",
       " 'A',\n",
       " 'M',\n",
       " 'F',\n",
       " 'S',\n",
       " 'P',\n",
       " 'H',\n",
       " 'L',\n",
       " 'I',\n",
       " 'A',\n",
       " 'N',\n",
       " 'A',\n",
       " 'Q',\n",
       " 'N',\n",
       " 'A',\n",
       " 'G',\n",
       " 'E',\n",
       " 'S',\n",
       " 'M',\n",
       " 'P',\n",
       " 'W',\n",
       " 'E',\n",
       " 'H',\n",
       " 'N',\n",
       " 'C',\n",
       " 'E',\n",
       " 'I',\n",
       " 'A',\n",
       " 'K',\n",
       " 'C',\n",
       " 'P',\n",
       " 'I',\n",
       " 'E',\n",
       " 'I',\n",
       " 'I',\n",
       " 'A',\n",
       " 'L',\n",
       " 'A',\n",
       " 'P',\n",
       " 'P',\n",
       " 'T',\n",
       " 'Q',\n",
       " 'Q',\n",
       " 'H',\n",
       " 'D',\n",
       " 'M',\n",
       " 'N',\n",
       " 'T',\n",
       " 'K',\n",
       " 'T',\n",
       " 'K',\n",
       " 'N',\n",
       " 'P',\n",
       " 'A',\n",
       " 'L',\n",
       " 'W',\n",
       " 'C',\n",
       " 'E',\n",
       " 'G',\n",
       " 'S',\n",
       " 'I',\n",
       " 'G',\n",
       " 'T',\n",
       " 'A',\n",
       " 'H',\n",
       " 'D',\n",
       " 'Q',\n",
       " 'K',\n",
       " 'D',\n",
       " 'C',\n",
       " 'C',\n",
       " 'A',\n",
       " 'T',\n",
       " 'A',\n",
       " 'G',\n",
       " 'D',\n",
       " 'A',\n",
       " 'L',\n",
       " 'G',\n",
       " 'A',\n",
       " 'H',\n",
       " 'A',\n",
       " 'M',\n",
       " 'E']"
      ]
     },
     "execution_count": 38,
     "metadata": {},
     "output_type": "execute_result"
    }
   ],
   "source": [
    "protein"
   ]
  },
  {
   "cell_type": "code",
   "execution_count": 15,
   "metadata": {},
   "outputs": [],
   "source": [
    "di = {}\n",
    "di[tuple(np.zeros((10)))] = 0"
   ]
  },
  {
   "cell_type": "markdown",
   "metadata": {},
   "source": [
    "## Step 5 - Visualizing the latent space"
   ]
  },
  {
   "cell_type": "code",
   "execution_count": 9,
   "metadata": {},
   "outputs": [
    {
     "ename": "NameError",
     "evalue": "name 'x_data' is not defined",
     "output_type": "error",
     "traceback": [
      "\u001b[0;31m---------------------------------------------------------------------------\u001b[0m",
      "\u001b[0;31mNameError\u001b[0m                                 Traceback (most recent call last)",
      "Cell \u001b[0;32mIn[9], line 1\u001b[0m\n\u001b[0;32m----> 1\u001b[0m n_show \u001b[38;5;241m=\u001b[39m \u001b[38;5;28mmin\u001b[39m( \u001b[38;5;241m20000\u001b[39m, \u001b[38;5;28mlen\u001b[39m(\u001b[43mx_data\u001b[49m) )\n\u001b[1;32m      3\u001b[0m \u001b[38;5;66;03m# ---- Select images\u001b[39;00m\n\u001b[1;32m      5\u001b[0m x_show, y_show \u001b[38;5;241m=\u001b[39m fidle\u001b[38;5;241m.\u001b[39mutils\u001b[38;5;241m.\u001b[39mpick_dataset(x_data,y_data, n\u001b[38;5;241m=\u001b[39mn_show)\n",
      "\u001b[0;31mNameError\u001b[0m: name 'x_data' is not defined"
     ]
    }
   ],
   "source": [
    "n_show = min( 20000, len(x_data) )\n",
    "\n",
    "# ---- Select images\n",
    "\n",
    "x_show, y_show = fidle.utils.pick_dataset(x_data,y_data, n=n_show)\n",
    "\n",
    "# ---- Get latent points\n",
    "\n",
    "z_mean, z_var, z = vae.encoder.predict(x_show, verbose=0)"
   ]
  },
  {
   "cell_type": "markdown",
   "metadata": {},
   "source": [
    "### 5.1 - Classic 2d visualisaton"
   ]
  },
  {
   "cell_type": "code",
   "execution_count": null,
   "metadata": {},
   "outputs": [],
   "source": [
    "fig = plt.figure(figsize=(14, 10))\n",
    "plt.scatter(z[:, 2] , z[:, 4], c=y_show, cmap= 'tab10', alpha=0.5, s=30)\n",
    "plt.colorbar()\n",
    "fidle.scrawler.save_fig('03-Latent-space')\n",
    "plt.show()"
   ]
  },
  {
   "cell_type": "markdown",
   "metadata": {},
   "source": [
    "### 5.2 - Simplex visualisaton"
   ]
  },
  {
   "cell_type": "code",
   "execution_count": null,
   "metadata": {},
   "outputs": [],
   "source": [
    "if latent_dim<4:\n",
    "\n",
    "    print('Sorry, This part can only work if the latent space is greater than 3')\n",
    "\n",
    "else:\n",
    "\n",
    "    # ---- Softmax rescale\n",
    "    #\n",
    "    zs = np.exp(z)/np.sum(np.exp(z),axis=1,keepdims=True)\n",
    "    # zc  = zs * 1/np.max(zs)\n",
    "\n",
    "    # ---- Create collection\n",
    "    #\n",
    "    c = Collection(zs, colors=y_show, labels=y_show)\n",
    "    c.attrs.markers_colormap     = {'colorscale':'Rainbow','cmin':0,'cmax':latent_dim}\n",
    "    c.attrs.markers_size         = 5\n",
    "    c.attrs.markers_border_width = 0\n",
    "    c.attrs.markers_opacity      = 0.8\n",
    "\n",
    "    s = Simplex.build(latent_dim)\n",
    "    s.attrs.width  = 1000\n",
    "    s.attrs.height = 1000\n",
    "    s.plot(c)"
   ]
  },
  {
   "cell_type": "markdown",
   "metadata": {},
   "source": [
    "## Step 6 - Generate from latent space (latent_dim==2)"
   ]
  },
  {
   "cell_type": "code",
   "execution_count": null,
   "metadata": {},
   "outputs": [],
   "source": [
    "if latent_dim>2:\n",
    "\n",
    "    print('Sorry, This part can only work if the latent space is of dimension 2')\n",
    "\n",
    "else:\n",
    "\n",
    "    grid_size   = 14\n",
    "    grid_scale  = 1.\n",
    "\n",
    "    # ---- Draw a ppf grid\n",
    "\n",
    "    grid=[]\n",
    "    for y in scipy.stats.norm.ppf(np.linspace(0.99, 0.01, grid_size),scale=grid_scale):\n",
    "        for x in scipy.stats.norm.ppf(np.linspace(0.01, 0.99, grid_size),scale=grid_scale):\n",
    "            grid.append( (x,y) )\n",
    "    grid=np.array(grid)\n",
    "\n",
    "    # ---- Draw latentspoints and grid\n",
    "\n",
    "    fig = plt.figure(figsize=(12, 10))\n",
    "    plt.scatter(z[:, 0] , z[:, 1], c=y_show, cmap= 'tab10', alpha=0.5, s=20)\n",
    "    plt.scatter(grid[:, 0] , grid[:, 1], c = 'black', s=60, linewidth=2, marker='+', alpha=1)\n",
    "    fidle.scrawler.save_fig('04-Latent-grid')\n",
    "    plt.show()\n",
    "\n",
    "    # ---- Plot grid corresponding images\n",
    "\n",
    "    x_reconst = vae.decoder.predict([grid])\n",
    "    fidle.scrawler.images(x_reconst, indices='all', columns=grid_size, x_size=0.5,y_size=0.5, y_padding=0,spines_alpha=0.1, save_as='05-Latent-morphing')\n",
    "\n"
   ]
  },
  {
   "cell_type": "code",
   "execution_count": null,
   "metadata": {},
   "outputs": [],
   "source": [
    "fidle.end()"
   ]
  },
  {
   "cell_type": "markdown",
   "metadata": {},
   "source": [
    "---\n",
    "<img width=\"80px\" src=\"../fidle/img/logo-paysage.svg\"></img>"
   ]
  }
 ],
 "metadata": {
  "kernelspec": {
   "display_name": "Python 3.9.2 ('fidle-env')",
   "language": "python",
   "name": "python3"
  },
  "language_info": {
   "codemirror_mode": {
    "name": "ipython",
    "version": 3
   },
   "file_extension": ".py",
   "mimetype": "text/x-python",
   "name": "python",
   "nbconvert_exporter": "python",
   "pygments_lexer": "ipython3",
   "version": "3.11.8"
  },
  "vscode": {
   "interpreter": {
    "hash": "b3929042cc22c1274d74e3e946c52b845b57cb6d84f2d591ffe0519b38e4896d"
   }
  }
 },
 "nbformat": 4,
 "nbformat_minor": 4
}
