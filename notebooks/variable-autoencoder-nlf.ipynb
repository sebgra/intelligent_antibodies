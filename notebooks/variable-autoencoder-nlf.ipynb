{
 "cells": [
  {
   "cell_type": "code",
   "execution_count": 1,
   "metadata": {},
   "outputs": [],
   "source": [
    "%load_ext autoreload\n",
    "%autoreload 2"
   ]
  },
  {
   "cell_type": "code",
   "execution_count": 2,
   "metadata": {},
   "outputs": [
    {
     "name": "stderr",
     "output_type": "stream",
     "text": [
      "2024-03-23 23:26:04.482742: E external/local_xla/xla/stream_executor/cuda/cuda_dnn.cc:9261] Unable to register cuDNN factory: Attempting to register factory for plugin cuDNN when one has already been registered\n",
      "2024-03-23 23:26:04.482852: E external/local_xla/xla/stream_executor/cuda/cuda_fft.cc:607] Unable to register cuFFT factory: Attempting to register factory for plugin cuFFT when one has already been registered\n",
      "2024-03-23 23:26:04.486381: E external/local_xla/xla/stream_executor/cuda/cuda_blas.cc:1515] Unable to register cuBLAS factory: Attempting to register factory for plugin cuBLAS when one has already been registered\n",
      "2024-03-23 23:26:04.507189: I tensorflow/core/platform/cpu_feature_guard.cc:182] This TensorFlow binary is optimized to use available CPU instructions in performance-critical operations.\n",
      "To enable the following instructions: SSE4.1 SSE4.2 AVX AVX2 FMA, in other operations, rebuild TensorFlow with the appropriate compiler flags.\n"
     ]
    }
   ],
   "source": [
    "import os\n",
    "\n",
    "os.environ[\"KERAS_BACKEND\"] = \"tensorflow\"\n",
    "\n",
    "import numpy as np\n",
    "import tensorflow as tf\n",
    "import keras\n",
    "from keras import layers\n",
    "\n",
    "from modules.layers import SamplingLayer\n",
    "from modules.dataset import AntibodyNLFProtDataset\n",
    "from sklearn.model_selection import train_test_split\n",
    "\n",
    "from modules.model.VAE import VAE"
   ]
  },
  {
   "cell_type": "code",
   "execution_count": 3,
   "metadata": {},
   "outputs": [],
   "source": [
    "# df_seq = np.load(\"../../sequence1.npy\") # Load anticorps sequences.\n",
    "x_data, y_data, vector_size, alphabet_size = AntibodyNLFProtDataset.get_data(500)\n",
    "x_train, x_test, y_train, y_test = train_test_split(\n",
    "    x_data, y_data, test_size=0.2, random_state=42\n",
    ")"
   ]
  },
  {
   "cell_type": "code",
   "execution_count": 4,
   "metadata": {},
   "outputs": [
    {
     "data": {
      "text/plain": [
       "(500, 18)"
      ]
     },
     "execution_count": 4,
     "metadata": {},
     "output_type": "execute_result"
    }
   ],
   "source": [
    "vector_size, alphabet_size"
   ]
  },
  {
   "cell_type": "markdown",
   "metadata": {},
   "source": [
    "### Encoder"
   ]
  },
  {
   "cell_type": "code",
   "execution_count": 5,
   "metadata": {},
   "outputs": [
    {
     "name": "stderr",
     "output_type": "stream",
     "text": [
      "2024-03-23 23:26:21.792909: I external/local_xla/xla/stream_executor/cuda/cuda_executor.cc:901] successful NUMA node read from SysFS had negative value (-1), but there must be at least one NUMA node, so returning NUMA node zero. See more at https://github.com/torvalds/linux/blob/v6.0/Documentation/ABI/testing/sysfs-bus-pci#L344-L355\n",
      "2024-03-23 23:26:21.808356: I external/local_xla/xla/stream_executor/cuda/cuda_executor.cc:901] successful NUMA node read from SysFS had negative value (-1), but there must be at least one NUMA node, so returning NUMA node zero. See more at https://github.com/torvalds/linux/blob/v6.0/Documentation/ABI/testing/sysfs-bus-pci#L344-L355\n",
      "2024-03-23 23:26:21.811394: I external/local_xla/xla/stream_executor/cuda/cuda_executor.cc:901] successful NUMA node read from SysFS had negative value (-1), but there must be at least one NUMA node, so returning NUMA node zero. See more at https://github.com/torvalds/linux/blob/v6.0/Documentation/ABI/testing/sysfs-bus-pci#L344-L355\n",
      "2024-03-23 23:26:21.818087: I external/local_xla/xla/stream_executor/cuda/cuda_executor.cc:901] successful NUMA node read from SysFS had negative value (-1), but there must be at least one NUMA node, so returning NUMA node zero. See more at https://github.com/torvalds/linux/blob/v6.0/Documentation/ABI/testing/sysfs-bus-pci#L344-L355\n",
      "2024-03-23 23:26:21.821092: I external/local_xla/xla/stream_executor/cuda/cuda_executor.cc:901] successful NUMA node read from SysFS had negative value (-1), but there must be at least one NUMA node, so returning NUMA node zero. See more at https://github.com/torvalds/linux/blob/v6.0/Documentation/ABI/testing/sysfs-bus-pci#L344-L355\n",
      "2024-03-23 23:26:21.823881: I external/local_xla/xla/stream_executor/cuda/cuda_executor.cc:901] successful NUMA node read from SysFS had negative value (-1), but there must be at least one NUMA node, so returning NUMA node zero. See more at https://github.com/torvalds/linux/blob/v6.0/Documentation/ABI/testing/sysfs-bus-pci#L344-L355\n",
      "2024-03-23 23:26:22.138341: I external/local_xla/xla/stream_executor/cuda/cuda_executor.cc:901] successful NUMA node read from SysFS had negative value (-1), but there must be at least one NUMA node, so returning NUMA node zero. See more at https://github.com/torvalds/linux/blob/v6.0/Documentation/ABI/testing/sysfs-bus-pci#L344-L355\n",
      "2024-03-23 23:26:22.140350: I external/local_xla/xla/stream_executor/cuda/cuda_executor.cc:901] successful NUMA node read from SysFS had negative value (-1), but there must be at least one NUMA node, so returning NUMA node zero. See more at https://github.com/torvalds/linux/blob/v6.0/Documentation/ABI/testing/sysfs-bus-pci#L344-L355\n",
      "2024-03-23 23:26:22.142188: I external/local_xla/xla/stream_executor/cuda/cuda_executor.cc:901] successful NUMA node read from SysFS had negative value (-1), but there must be at least one NUMA node, so returning NUMA node zero. See more at https://github.com/torvalds/linux/blob/v6.0/Documentation/ABI/testing/sysfs-bus-pci#L344-L355\n",
      "2024-03-23 23:26:22.143968: I tensorflow/core/common_runtime/gpu/gpu_device.cc:1929] Created device /job:localhost/replica:0/task:0/device:GPU:0 with 13775 MB memory:  -> device: 0, name: Tesla T4, pci bus id: 0000:00:07.0, compute capability: 7.5\n"
     ]
    },
    {
     "name": "stdout",
     "output_type": "stream",
     "text": [
      "Model: \"encoder\"\n",
      "__________________________________________________________________________________________________\n",
      " Layer (type)                Output Shape                 Param #   Connected to                  \n",
      "==================================================================================================\n",
      " input_1 (InputLayer)        [(None, 500, 18, 1)]         0         []                            \n",
      "                                                                                                  \n",
      " conv2d (Conv2D)             (None, 250, 9, 32)           320       ['input_1[0][0]']             \n",
      "                                                                                                  \n",
      " conv2d_1 (Conv2D)           (None, 125, 5, 64)           18496     ['conv2d[0][0]']              \n",
      "                                                                                                  \n",
      " flatten (Flatten)           (None, 40000)                0         ['conv2d_1[0][0]']            \n",
      "                                                                                                  \n",
      " dense (Dense)               (None, 16)                   640016    ['flatten[0][0]']             \n",
      "                                                                                                  \n",
      " z_mean (Dense)              (None, 2)                    34        ['dense[0][0]']               \n",
      "                                                                                                  \n",
      " z_log_var (Dense)           (None, 2)                    34        ['dense[0][0]']               \n",
      "                                                                                                  \n",
      " sampling_layer (SamplingLa  (None, 2)                    0         ['z_mean[0][0]',              \n",
      " yer)                                                                'z_log_var[0][0]']           \n",
      "                                                                                                  \n",
      "==================================================================================================\n",
      "Total params: 658900 (2.51 MB)\n",
      "Trainable params: 658900 (2.51 MB)\n",
      "Non-trainable params: 0 (0.00 Byte)\n",
      "__________________________________________________________________________________________________\n"
     ]
    }
   ],
   "source": [
    "latent_dim = 2\n",
    "\n",
    "encoder_inputs = keras.Input(shape=(vector_size, alphabet_size, 1))\n",
    "x = layers.Conv2D(32, 3, activation=\"relu\", strides=2, padding=\"same\")(encoder_inputs)\n",
    "x = layers.Conv2D(64, 3, activation=\"relu\", strides=2, padding=\"same\")(x)\n",
    "x = layers.Flatten()(x)\n",
    "x = layers.Dense(16, activation=\"relu\")(x)\n",
    "z_mean = layers.Dense(latent_dim, name=\"z_mean\")(x)\n",
    "z_log_var = layers.Dense(latent_dim, name=\"z_log_var\")(x)\n",
    "z = SamplingLayer()([z_mean, z_log_var])\n",
    "encoder = keras.Model(encoder_inputs, [z_mean, z_log_var, z], name=\"encoder\")\n",
    "encoder.summary()"
   ]
  },
  {
   "cell_type": "markdown",
   "metadata": {},
   "source": [
    "### Decoder"
   ]
  },
  {
   "cell_type": "code",
   "execution_count": 6,
   "metadata": {},
   "outputs": [
    {
     "name": "stdout",
     "output_type": "stream",
     "text": [
      "Model: \"decoder\"\n",
      "_________________________________________________________________\n",
      " Layer (type)                Output Shape              Param #   \n",
      "=================================================================\n",
      " input_2 (InputLayer)        [(None, 2)]               0         \n",
      "                                                                 \n",
      " dense_1 (Dense)             (None, 144000)            432000    \n",
      "                                                                 \n",
      " reshape (Reshape)           (None, 250, 9, 64)        0         \n",
      "                                                                 \n",
      " conv2d_transpose (Conv2DTr  (None, 250, 9, 64)        36928     \n",
      " anspose)                                                        \n",
      "                                                                 \n",
      " conv2d_transpose_1 (Conv2D  (None, 500, 18, 64)       36928     \n",
      " Transpose)                                                      \n",
      "                                                                 \n",
      " conv2d_transpose_2 (Conv2D  (None, 500, 18, 1)        577       \n",
      " Transpose)                                                      \n",
      "                                                                 \n",
      "=================================================================\n",
      "Total params: 506433 (1.93 MB)\n",
      "Trainable params: 506433 (1.93 MB)\n",
      "Non-trainable params: 0 (0.00 Byte)\n",
      "_________________________________________________________________\n"
     ]
    }
   ],
   "source": [
    "# Define decoder model. should have output shape (vector_size, alphabet_size, 1)\n",
    "\n",
    "inputs  = keras.Input(shape=(latent_dim,))\n",
    "x       = layers.Dense(vector_size // 2 * alphabet_size // 2 * 64, activation=\"relu\")(inputs)\n",
    "x       = layers.Reshape((vector_size // 2, alphabet_size // 2, 64))(x)\n",
    "x       = layers.Conv2DTranspose(64, 3, strides=1, padding=\"same\", activation=\"relu\")(x)\n",
    "x       = layers.Conv2DTranspose(64, 3, strides=2, padding=\"same\", activation=\"relu\")(x)\n",
    "# x       = layers.Conv2DTranspose(32, 3, strides=2, padding=\"same\", activation=\"relu\")(x)\n",
    "outputs = layers.Conv2DTranspose(1,  3, padding=\"same\", activation=\"sigmoid\")(x)\n",
    "\n",
    "decoder = keras.Model(inputs, outputs, name=\"decoder\")\n",
    "decoder.summary()"
   ]
  },
  {
   "cell_type": "markdown",
   "metadata": {},
   "source": [
    "## Train the VAE"
   ]
  },
  {
   "cell_type": "code",
   "execution_count": 7,
   "metadata": {},
   "outputs": [],
   "source": [
    "x_train = x_train.reshape(x_train.shape[0], x_train.shape[1], x_train.shape[2], 1)\n",
    "x_test = x_test.reshape(x_test.shape[0], x_test.shape[1], x_test.shape[2], 1)\n",
    "dataset = np.concatenate([x_train, x_test], axis=0)"
   ]
  },
  {
   "cell_type": "code",
   "execution_count": 8,
   "metadata": {},
   "outputs": [
    {
     "name": "stdout",
     "output_type": "stream",
     "text": [
      "Epoch 1/30\n"
     ]
    },
    {
     "name": "stderr",
     "output_type": "stream",
     "text": [
      "2024-03-23 23:26:31.562762: I external/local_xla/xla/stream_executor/cuda/cuda_dnn.cc:454] Loaded cuDNN version 8907\n",
      "2024-03-23 23:26:35.776244: I external/local_xla/xla/service/service.cc:168] XLA service 0x7fe2956d2470 initialized for platform CUDA (this does not guarantee that XLA will be used). Devices:\n",
      "2024-03-23 23:26:35.776287: I external/local_xla/xla/service/service.cc:176]   StreamExecutor device (0): Tesla T4, Compute Capability 7.5\n",
      "2024-03-23 23:26:35.788333: I tensorflow/compiler/mlir/tensorflow/utils/dump_mlir_util.cc:269] disabling MLIR crash reproducer, set env var `MLIR_CRASH_REPRODUCER_DIRECTORY` to enable.\n",
      "WARNING: All log messages before absl::InitializeLog() is called are written to STDERR\n",
      "I0000 00:00:1711236395.935446   67113 device_compiler.h:186] Compiled cluster using XLA!  This line is logged at most once for the lifetime of the process.\n"
     ]
    },
    {
     "name": "stdout",
     "output_type": "stream",
     "text": [
      "13/13 [==============================] - 13s 290ms/step - loss: 5975.0040 - reconstruction_loss: 5412.2788 - kl_loss: 6.5241\n",
      "Epoch 2/30\n",
      "13/13 [==============================] - 1s 93ms/step - loss: 2601.9421 - reconstruction_loss: 2277.3315 - kl_loss: 55.6265\n",
      "Epoch 3/30\n",
      "13/13 [==============================] - 1s 92ms/step - loss: 1924.4164 - reconstruction_loss: 1888.0876 - kl_loss: 33.2794\n",
      "Epoch 4/30\n",
      "13/13 [==============================] - 1s 93ms/step - loss: 1811.9064 - reconstruction_loss: 1749.8303 - kl_loss: 19.7587\n",
      "Epoch 5/30\n",
      "13/13 [==============================] - 1s 93ms/step - loss: 1590.1307 - reconstruction_loss: 1477.6001 - kl_loss: 20.8900\n",
      "Epoch 6/30\n",
      "13/13 [==============================] - 1s 93ms/step - loss: 1073.2774 - reconstruction_loss: 635.8199 - kl_loss: 84.5848\n",
      "Epoch 7/30\n",
      "13/13 [==============================] - 1s 93ms/step - loss: -8083.9837 - reconstruction_loss: -33000.3906 - kl_loss: 15246.4492\n",
      "Epoch 8/30\n",
      "13/13 [==============================] - 1s 91ms/step - loss: -90589.1761 - reconstruction_loss: -264884.5625 - kl_loss: 120732.6562\n",
      "Epoch 9/30\n",
      "13/13 [==============================] - 1s 92ms/step - loss: -659372.1272 - reconstruction_loss: -1635952.2500 - kl_loss: 656871.5625\n",
      "Epoch 10/30\n",
      "13/13 [==============================] - 1s 92ms/step - loss: -3570376.6964 - reconstruction_loss: -7944653.0000 - kl_loss: 2683517.7500\n",
      "Epoch 11/30\n",
      "13/13 [==============================] - 1s 92ms/step - loss: -20212929.7857 - reconstruction_loss: -52948124.0000 - kl_loss: 24531442.0000\n",
      "Epoch 12/30\n",
      "13/13 [==============================] - 1s 91ms/step - loss: -89120153.4286 - reconstruction_loss: -226445296.0000 - kl_loss: 104153104.0000\n",
      "Epoch 13/30\n",
      "13/13 [==============================] - 1s 92ms/step - loss: -333966914.2857 - reconstruction_loss: -843628544.0000 - kl_loss: 385435808.0000\n",
      "Epoch 14/30\n",
      "13/13 [==============================] - 1s 92ms/step - loss: 60005834043.4286 - reconstruction_loss: -2630870016.0000 - kl_loss: 278713368576.0000\n",
      "Epoch 15/30\n",
      "13/13 [==============================] - 1s 93ms/step - loss: -3053781632.0000 - reconstruction_loss: -5950060544.0000 - kl_loss: 2265376512.0000\n",
      "Epoch 16/30\n",
      "13/13 [==============================] - 1s 92ms/step - loss: -6685324800.0000 - reconstruction_loss: -10723162112.0000 - kl_loss: 2753294080.0000\n",
      "Epoch 17/30\n",
      "13/13 [==============================] - 1s 92ms/step - loss: -13160563126.8571 - reconstruction_loss: -18442752000.0000 - kl_loss: 3209830400.0000\n",
      "Epoch 18/30\n",
      "13/13 [==============================] - 1s 92ms/step - loss: -23768558884.5714 - reconstruction_loss: -30019082240.0000 - kl_loss: 3664070144.0000\n",
      "Epoch 19/30\n",
      "13/13 [==============================] - 1s 93ms/step - loss: -39137531904.0000 - reconstruction_loss: -47286738944.0000 - kl_loss: 4160516608.0000\n",
      "Epoch 20/30\n",
      "13/13 [==============================] - 1s 92ms/step - loss: -61457720466.2857 - reconstruction_loss: -71709777920.0000 - kl_loss: 4672232448.0000\n",
      "Epoch 21/30\n",
      "13/13 [==============================] - 1s 93ms/step - loss: -92421806957.7143 - reconstruction_loss: -105822167040.0000 - kl_loss: 5214499840.0000\n",
      "Epoch 22/30\n",
      "13/13 [==============================] - 1s 92ms/step - loss: -133520645558.8571 - reconstruction_loss: -152007491584.0000 - kl_loss: 5791155200.0000\n",
      "Epoch 23/30\n",
      "13/13 [==============================] - 1s 93ms/step - loss: -188803875986.2857 - reconstruction_loss: -212753809408.0000 - kl_loss: 6380387328.0000\n",
      "Epoch 24/30\n",
      "13/13 [==============================] - 1s 93ms/step - loss: -266040920356.5714 - reconstruction_loss: -292365598720.0000 - kl_loss: 7019203584.0000\n",
      "Epoch 25/30\n",
      "13/13 [==============================] - 1s 93ms/step - loss: -362581861522.2857 - reconstruction_loss: -394735845376.0000 - kl_loss: 7692086272.0000\n",
      "Epoch 26/30\n",
      "13/13 [==============================] - 1s 94ms/step - loss: -492461349741.7143 - reconstruction_loss: -525034455040.0000 - kl_loss: 8428208128.0000\n",
      "Epoch 27/30\n",
      "13/13 [==============================] - 1s 94ms/step - loss: -636131040109.7142 - reconstruction_loss: -683774377984.0000 - kl_loss: 9168066560.0000\n",
      "Epoch 28/30\n",
      "13/13 [==============================] - 1s 93ms/step - loss: -844862085997.7142 - reconstruction_loss: -891112456192.0000 - kl_loss: 10075668480.0000\n",
      "Epoch 29/30\n",
      "13/13 [==============================] - 1s 94ms/step - loss: -1076068586057.1428 - reconstruction_loss: -1146753515520.0000 - kl_loss: 11044845568.0000\n",
      "Epoch 30/30\n",
      "13/13 [==============================] - 1s 93ms/step - loss: -1365300618386.2856 - reconstruction_loss: -1454354857984.0000 - kl_loss: 12101854208.0000\n"
     ]
    },
    {
     "data": {
      "text/plain": [
       "<keras.src.callbacks.History at 0x7fe3298a8210>"
      ]
     },
     "execution_count": 8,
     "metadata": {},
     "output_type": "execute_result"
    }
   ],
   "source": [
    "vae = VAE(encoder, decoder)\n",
    "vae.compile(optimizer=keras.optimizers.Adam())\n",
    "vae.fit(dataset, epochs=30, batch_size=128)\n"
   ]
  },
  {
   "cell_type": "code",
   "execution_count": null,
   "metadata": {},
   "outputs": [],
   "source": [
    "vae.save(\"run/vae-nlf-antibody\")"
   ]
  },
  {
   "cell_type": "code",
   "execution_count": 14,
   "metadata": {},
   "outputs": [
    {
     "data": {
      "text/plain": [
       "(500, 18)"
      ]
     },
     "execution_count": 14,
     "metadata": {},
     "output_type": "execute_result"
    }
   ],
   "source": [
    "x_data[0].shape"
   ]
  },
  {
   "cell_type": "markdown",
   "metadata": {},
   "source": [
    "## References\n",
    "\n",
    "- <https://keras.io/examples/generative/vae/>"
   ]
  },
  {
   "cell_type": "markdown",
   "metadata": {},
   "source": []
  }
 ],
 "metadata": {
  "kernelspec": {
   "display_name": "intelligent-antibodies",
   "language": "python",
   "name": "python3"
  },
  "language_info": {
   "codemirror_mode": {
    "name": "ipython",
    "version": 3
   },
   "file_extension": ".py",
   "mimetype": "text/x-python",
   "name": "python",
   "nbconvert_exporter": "python",
   "pygments_lexer": "ipython3",
   "version": "3.11.8"
  }
 },
 "nbformat": 4,
 "nbformat_minor": 2
}
