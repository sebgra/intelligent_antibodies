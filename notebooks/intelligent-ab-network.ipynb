{
 "cells": [
  {
   "cell_type": "markdown",
   "metadata": {},
   "source": [
    "# Intelligent Antibodies\n",
    "\n",
    "> **Goal** Generate antibodies protein sequence."
   ]
  },
  {
   "cell_type": "code",
   "execution_count": 1,
   "metadata": {},
   "outputs": [],
   "source": [
    "%load_ext autoreload\n",
    "%autoreload 2"
   ]
  },
  {
   "cell_type": "code",
   "execution_count": 2,
   "metadata": {},
   "outputs": [
    {
     "name": "stderr",
     "output_type": "stream",
     "text": [
      "2024-03-24 09:33:07.649426: E external/local_xla/xla/stream_executor/cuda/cuda_dnn.cc:9261] Unable to register cuDNN factory: Attempting to register factory for plugin cuDNN when one has already been registered\n",
      "2024-03-24 09:33:07.649498: E external/local_xla/xla/stream_executor/cuda/cuda_fft.cc:607] Unable to register cuFFT factory: Attempting to register factory for plugin cuFFT when one has already been registered\n",
      "2024-03-24 09:33:07.651521: E external/local_xla/xla/stream_executor/cuda/cuda_blas.cc:1515] Unable to register cuBLAS factory: Attempting to register factory for plugin cuBLAS when one has already been registered\n",
      "2024-03-24 09:33:07.661595: I tensorflow/core/platform/cpu_feature_guard.cc:182] This TensorFlow binary is optimized to use available CPU instructions in performance-critical operations.\n",
      "To enable the following instructions: SSE4.1 SSE4.2 AVX AVX2 FMA, in other operations, rebuild TensorFlow with the appropriate compiler flags.\n"
     ]
    }
   ],
   "source": [
    "import keras\n",
    "from keras import layers\n",
    "import matplotlib.pyplot as plt\n",
    "import tensorflow as tf\n",
    "\n",
    "\n",
    "from modules.models.VAE import VAE\n",
    "from modules.models.VAEFull import VAEFull\n",
    "from modules.models.SiameseInteractionClassifier import f1, binary_crossentropy, mcc, forward, accuracy\n",
    "from modules.encoding import ProteinOneHotEncoder\n",
    "\n",
    "import pandas as pd\n",
    "import numpy as np"
   ]
  },
  {
   "cell_type": "code",
   "execution_count": 3,
   "metadata": {},
   "outputs": [
    {
     "name": "stderr",
     "output_type": "stream",
     "text": [
      "2024-03-24 09:33:11.325069: I external/local_xla/xla/stream_executor/cuda/cuda_executor.cc:901] successful NUMA node read from SysFS had negative value (-1), but there must be at least one NUMA node, so returning NUMA node zero. See more at https://github.com/torvalds/linux/blob/v6.0/Documentation/ABI/testing/sysfs-bus-pci#L344-L355\n",
      "2024-03-24 09:33:11.329273: I external/local_xla/xla/stream_executor/cuda/cuda_executor.cc:901] successful NUMA node read from SysFS had negative value (-1), but there must be at least one NUMA node, so returning NUMA node zero. See more at https://github.com/torvalds/linux/blob/v6.0/Documentation/ABI/testing/sysfs-bus-pci#L344-L355\n",
      "2024-03-24 09:33:11.331216: I external/local_xla/xla/stream_executor/cuda/cuda_executor.cc:901] successful NUMA node read from SysFS had negative value (-1), but there must be at least one NUMA node, so returning NUMA node zero. See more at https://github.com/torvalds/linux/blob/v6.0/Documentation/ABI/testing/sysfs-bus-pci#L344-L355\n"
     ]
    }
   ],
   "source": [
    "gpus = tf.config.experimental.list_physical_devices('GPU')\n",
    "if gpus:\n",
    "  try:\n",
    "    tf.config.experimental.set_virtual_device_configuration(\n",
    "        gpus[0],[tf.config.experimental.VirtualDeviceConfiguration(memory_limit=5120)])\n",
    "  except RuntimeError as e:\n",
    "    print(e)"
   ]
  },
  {
   "cell_type": "code",
   "execution_count": 4,
   "metadata": {},
   "outputs": [
    {
     "name": "stderr",
     "output_type": "stream",
     "text": [
      "2024-03-24 09:33:11.452878: I external/local_xla/xla/stream_executor/cuda/cuda_executor.cc:901] successful NUMA node read from SysFS had negative value (-1), but there must be at least one NUMA node, so returning NUMA node zero. See more at https://github.com/torvalds/linux/blob/v6.0/Documentation/ABI/testing/sysfs-bus-pci#L344-L355\n",
      "2024-03-24 09:33:11.455463: I external/local_xla/xla/stream_executor/cuda/cuda_executor.cc:901] successful NUMA node read from SysFS had negative value (-1), but there must be at least one NUMA node, so returning NUMA node zero. See more at https://github.com/torvalds/linux/blob/v6.0/Documentation/ABI/testing/sysfs-bus-pci#L344-L355\n",
      "2024-03-24 09:33:11.457330: I external/local_xla/xla/stream_executor/cuda/cuda_executor.cc:901] successful NUMA node read from SysFS had negative value (-1), but there must be at least one NUMA node, so returning NUMA node zero. See more at https://github.com/torvalds/linux/blob/v6.0/Documentation/ABI/testing/sysfs-bus-pci#L344-L355\n",
      "2024-03-24 09:33:11.686130: I external/local_xla/xla/stream_executor/cuda/cuda_executor.cc:901] successful NUMA node read from SysFS had negative value (-1), but there must be at least one NUMA node, so returning NUMA node zero. See more at https://github.com/torvalds/linux/blob/v6.0/Documentation/ABI/testing/sysfs-bus-pci#L344-L355\n",
      "2024-03-24 09:33:11.688000: I external/local_xla/xla/stream_executor/cuda/cuda_executor.cc:901] successful NUMA node read from SysFS had negative value (-1), but there must be at least one NUMA node, so returning NUMA node zero. See more at https://github.com/torvalds/linux/blob/v6.0/Documentation/ABI/testing/sysfs-bus-pci#L344-L355\n",
      "2024-03-24 09:33:11.689726: I external/local_xla/xla/stream_executor/cuda/cuda_executor.cc:901] successful NUMA node read from SysFS had negative value (-1), but there must be at least one NUMA node, so returning NUMA node zero. See more at https://github.com/torvalds/linux/blob/v6.0/Documentation/ABI/testing/sysfs-bus-pci#L344-L355\n",
      "2024-03-24 09:33:11.691385: I tensorflow/core/common_runtime/gpu/gpu_device.cc:1929] Created device /job:localhost/replica:0/task:0/device:GPU:0 with 5120 MB memory:  -> device: 0, name: Tesla T4, pci bus id: 0000:00:07.0, compute capability: 7.5\n",
      "2024-03-24 09:33:11.710337: I external/local_xla/xla/stream_executor/cuda/cuda_driver.cc:1101] failed to allocate 5.00GiB (5368709120 bytes) from device: CUDA_ERROR_OUT_OF_MEMORY: out of memory\n",
      "2024-03-24 09:33:11.710466: I external/local_xla/xla/stream_executor/cuda/cuda_driver.cc:1101] failed to allocate 4.50GiB (4831838208 bytes) from device: CUDA_ERROR_OUT_OF_MEMORY: out of memory\n",
      "2024-03-24 09:33:11.710565: I external/local_xla/xla/stream_executor/cuda/cuda_driver.cc:1101] failed to allocate 4.05GiB (4348654080 bytes) from device: CUDA_ERROR_OUT_OF_MEMORY: out of memory\n",
      "2024-03-24 09:33:11.710666: I external/local_xla/xla/stream_executor/cuda/cuda_driver.cc:1101] failed to allocate 3.64GiB (3913788672 bytes) from device: CUDA_ERROR_OUT_OF_MEMORY: out of memory\n",
      "2024-03-24 09:33:11.710762: I external/local_xla/xla/stream_executor/cuda/cuda_driver.cc:1101] failed to allocate 3.28GiB (3522409728 bytes) from device: CUDA_ERROR_OUT_OF_MEMORY: out of memory\n",
      "2024-03-24 09:33:11.710857: I external/local_xla/xla/stream_executor/cuda/cuda_driver.cc:1101] failed to allocate 2.95GiB (3170168576 bytes) from device: CUDA_ERROR_OUT_OF_MEMORY: out of memory\n",
      "2024-03-24 09:33:11.710951: I external/local_xla/xla/stream_executor/cuda/cuda_driver.cc:1101] failed to allocate 2.66GiB (2853151744 bytes) from device: CUDA_ERROR_OUT_OF_MEMORY: out of memory\n",
      "2024-03-24 09:33:11.711046: I external/local_xla/xla/stream_executor/cuda/cuda_driver.cc:1101] failed to allocate 2.39GiB (2567836416 bytes) from device: CUDA_ERROR_OUT_OF_MEMORY: out of memory\n",
      "2024-03-24 09:33:11.711158: I external/local_xla/xla/stream_executor/cuda/cuda_driver.cc:1101] failed to allocate 2.15GiB (2311052800 bytes) from device: CUDA_ERROR_OUT_OF_MEMORY: out of memory\n",
      "2024-03-24 09:33:11.711259: I external/local_xla/xla/stream_executor/cuda/cuda_driver.cc:1101] failed to allocate 1.94GiB (2079947520 bytes) from device: CUDA_ERROR_OUT_OF_MEMORY: out of memory\n",
      "2024-03-24 09:33:11.711350: I external/local_xla/xla/stream_executor/cuda/cuda_driver.cc:1101] failed to allocate 1.74GiB (1871952896 bytes) from device: CUDA_ERROR_OUT_OF_MEMORY: out of memory\n",
      "2024-03-24 09:33:11.711442: I external/local_xla/xla/stream_executor/cuda/cuda_driver.cc:1101] failed to allocate 1.57GiB (1684757504 bytes) from device: CUDA_ERROR_OUT_OF_MEMORY: out of memory\n",
      "2024-03-24 09:33:11.711534: I external/local_xla/xla/stream_executor/cuda/cuda_driver.cc:1101] failed to allocate 1.41GiB (1516281856 bytes) from device: CUDA_ERROR_OUT_OF_MEMORY: out of memory\n",
      "2024-03-24 09:33:11.711625: I external/local_xla/xla/stream_executor/cuda/cuda_driver.cc:1101] failed to allocate 1.27GiB (1364653824 bytes) from device: CUDA_ERROR_OUT_OF_MEMORY: out of memory\n",
      "2024-03-24 09:33:11.711716: I external/local_xla/xla/stream_executor/cuda/cuda_driver.cc:1101] failed to allocate 1.14GiB (1228188416 bytes) from device: CUDA_ERROR_OUT_OF_MEMORY: out of memory\n",
      "2024-03-24 09:33:11.711806: I external/local_xla/xla/stream_executor/cuda/cuda_driver.cc:1101] failed to allocate 1.03GiB (1105369600 bytes) from device: CUDA_ERROR_OUT_OF_MEMORY: out of memory\n",
      "2024-03-24 09:33:11.711899: I external/local_xla/xla/stream_executor/cuda/cuda_driver.cc:1101] failed to allocate 948.75MiB (994832640 bytes) from device: CUDA_ERROR_OUT_OF_MEMORY: out of memory\n"
     ]
    },
    {
     "name": "stdout",
     "output_type": "stream",
     "text": [
      "Reloaded.\n"
     ]
    }
   ],
   "source": [
    "vector_size = 200\n",
    "alphabet_size = 18\n",
    "input_dimensions = (vector_size, alphabet_size)\n",
    "\n",
    "vae_full = VAEFull(200, 18)\n",
    "vae_full.vae.reload(f'run/vae-one-hot-{vector_size}.keras')"
   ]
  },
  {
   "cell_type": "code",
   "execution_count": 5,
   "metadata": {},
   "outputs": [],
   "source": [
    "seq_input1 = layers.Input(shape=input_dimensions, name='seq_ag')\n",
    "seq_input2 = layers.Input(shape=input_dimensions, name='seq_ab')"
   ]
  },
  {
   "cell_type": "code",
   "execution_count": 6,
   "metadata": {},
   "outputs": [],
   "source": [
    "siamese = keras.models.load_model(f'run/models/siamese/one-hot-{vector_size}-model.h5', custom_objects=dict(f1=f1, mcc=mcc, binary_crossentropy=binary_crossentropy, forward=forward, accuracy=accuracy))"
   ]
  },
  {
   "cell_type": "code",
   "execution_count": 23,
   "metadata": {},
   "outputs": [],
   "source": [
    "# Get target antigen\n",
    "antigen_seq_id = \"6xe1\"\n",
    "\n",
    "df_seq = pd.read_csv(\"../data/SAbDab/sequences.csv\", sep=\";\")\n",
    "antigen = df_seq[df_seq[\"seq_id\"] == f\"{antigen_seq_id}|ag\"]"
   ]
  },
  {
   "cell_type": "code",
   "execution_count": 8,
   "metadata": {},
   "outputs": [],
   "source": [
    "antigen_sequence = antigen[\"sequence\"]"
   ]
  },
  {
   "cell_type": "code",
   "execution_count": 9,
   "metadata": {},
   "outputs": [],
   "source": [
    "encoder = ProteinOneHotEncoder()"
   ]
  },
  {
   "cell_type": "code",
   "execution_count": 10,
   "metadata": {},
   "outputs": [],
   "source": [
    "def generate_antibody_sequence(n, vector_size):\n",
    "    z = tf.random.normal(shape=[n, 2])\n",
    "    x_reconst = vae_full.decoder.predict(z, verbose=0)\n",
    "    latent_dim = z.shape[1]\n",
    "    for x in x_reconst:\n",
    "        x_sample = x.reshape((200, 18))\n",
    "        protein_sequence = \"\".join(list(encoder.decode(x_sample)))\n",
    "        protein_onehot = encoder.encode([protein_sequence], vector_size)\n",
    "        yield protein_sequence, protein_onehot\n"
   ]
  },
  {
   "cell_type": "code",
   "execution_count": 19,
   "metadata": {},
   "outputs": [],
   "source": [
    "def test_interaction(onehot_antibody, onehot_antigen, threshold=0.8):\n",
    "    score = siamese.predict([onehot_antibody, onehot_antigen])\n",
    "    label = tf.cast(score > threshold, tf.int32)\n",
    "    return label[0][0]"
   ]
  },
  {
   "cell_type": "code",
   "execution_count": 20,
   "metadata": {},
   "outputs": [],
   "source": [
    "def generate_interacting_antibody(antigen, limit=10, batch_size = 10):\n",
    "    onehot_antigen = encoder.encode(antigen, vector_size)\n",
    "    for _ in range(limit):\n",
    "        for sequence_antibody, onehot_antibody in generate_antibody_sequence(10, vector_size):\n",
    "            if test_interaction(onehot_antibody, onehot_antigen):\n",
    "                yield sequence_antibody\n"
   ]
  },
  {
   "cell_type": "code",
   "execution_count": 21,
   "metadata": {},
   "outputs": [
    {
     "name": "stdout",
     "output_type": "stream",
     "text": [
      "REKLGHRLSENCPTFNPMFPLHLECLPCQMGMCMSTLTQHLLNMSTNHKLFLTHSPSMHHMMEEMCFICPCMKLWNFPPLMENMHHIMSMSMKEMCCNSHFNNADPLPMLFNQHSICMSEFCECILGEIPDPIIKLCNSLQCCCQTLEGMQPTCEEMCRNCCFMFMNEQERLWEFTPEFLDHKTFEECFCIHWLWMEETL\n"
     ]
    }
   ],
   "source": [
    "for protein_sequence, protein_onehot in generate_antibody_sequence(1, vector_size):\n",
    "    print(protein_sequence)"
   ]
  },
  {
   "cell_type": "code",
   "execution_count": 27,
   "metadata": {},
   "outputs": [
    {
     "name": "stdout",
     "output_type": "stream",
     "text": [
      "1/1 [==============================] - 0s 30ms/step\n",
      "1/1 [==============================] - 0s 29ms/step\n",
      "1/1 [==============================] - 0s 28ms/step\n",
      "1/1 [==============================] - 0s 29ms/step\n",
      "1/1 [==============================] - 0s 32ms/step\n",
      "1/1 [==============================] - 0s 26ms/step\n",
      "1/1 [==============================] - 0s 27ms/step\n",
      "1/1 [==============================] - 0s 40ms/step\n",
      "1/1 [==============================] - 0s 37ms/step\n",
      "1/1 [==============================] - 0s 25ms/step\n",
      "1/1 [==============================] - 0s 27ms/step\n",
      "1/1 [==============================] - 0s 37ms/step\n",
      "1/1 [==============================] - 0s 29ms/step\n",
      "1/1 [==============================] - 0s 29ms/step\n",
      "1/1 [==============================] - 0s 37ms/step\n",
      "1/1 [==============================] - 0s 37ms/step\n",
      "1/1 [==============================] - 0s 35ms/step\n",
      "1/1 [==============================] - 0s 44ms/step\n",
      "1/1 [==============================] - 0s 32ms/step\n",
      "1/1 [==============================] - 0s 42ms/step\n",
      "1/1 [==============================] - 0s 28ms/step\n",
      "1/1 [==============================] - 0s 39ms/step\n",
      "1/1 [==============================] - 0s 27ms/step\n",
      "1/1 [==============================] - 0s 29ms/step\n",
      "1/1 [==============================] - 0s 29ms/step\n",
      "1/1 [==============================] - 0s 41ms/step\n",
      "1/1 [==============================] - 0s 29ms/step\n",
      "1/1 [==============================] - 0s 27ms/step\n",
      "1/1 [==============================] - 0s 25ms/step\n",
      "GNIMENINNCSNTLNTENDEKNKEGHHMCFNMNEGCFHEPHNGLNHDLTNICLCKEMPQTFNLTFTIPQMFLNTCLCCQMSLKLGLTPKPRHSCKIELFCELQLSCGHFELLNPNLLPIMRTDMFTSNLMEMHPHMSPGCDPPHSMFMHCLCDHCNDNDTPPCNETEPRTKPHMNEEMQNNNSEMCKHSTLMKPMCKCSC\n",
      "1/1 [==============================] - 0s 40ms/step\n",
      "1/1 [==============================] - 0s 27ms/step\n",
      "1/1 [==============================] - 0s 41ms/step\n",
      "1/1 [==============================] - 0s 26ms/step\n",
      "1/1 [==============================] - 0s 26ms/step\n",
      "1/1 [==============================] - 0s 26ms/step\n",
      "1/1 [==============================] - 0s 38ms/step\n",
      "1/1 [==============================] - 0s 38ms/step\n",
      "1/1 [==============================] - 0s 25ms/step\n",
      "1/1 [==============================] - 0s 26ms/step\n",
      "SETHCHQHSERIQLQNSTMCLPLPSMLNILGMCMEELNFNETPHIMNNISFLTLSCKPLPMERRSCINDPEEDPWNNPCHMEHRNHIMSMFMSESNCFPEFEPPIPNPNTFNQLSCFMFEHCNMIPGPQEDHRETHHMSLICICLLLTGPCPNCTMPPQNSMTPGTMEQTKEGEGCQEGEFLKTFHPEENPCHAHPEMTT\n",
      "1/1 [==============================] - 0s 27ms/step\n",
      "1/1 [==============================] - 0s 45ms/step\n",
      "1/1 [==============================] - 0s 43ms/step\n",
      "1/1 [==============================] - 0s 32ms/step\n",
      "1/1 [==============================] - 0s 27ms/step\n",
      "1/1 [==============================] - 0s 27ms/step\n",
      "1/1 [==============================] - 0s 42ms/step\n",
      "1/1 [==============================] - 0s 41ms/step\n",
      "1/1 [==============================] - 0s 35ms/step\n",
      "1/1 [==============================] - 0s 29ms/step\n",
      "1/1 [==============================] - 0s 28ms/step\n",
      "1/1 [==============================] - 0s 30ms/step\n",
      "1/1 [==============================] - 0s 29ms/step\n",
      "1/1 [==============================] - 0s 40ms/step\n",
      "1/1 [==============================] - 0s 27ms/step\n",
      "1/1 [==============================] - 0s 41ms/step\n",
      "1/1 [==============================] - 0s 27ms/step\n",
      "1/1 [==============================] - 0s 27ms/step\n",
      "1/1 [==============================] - 0s 37ms/step\n",
      "1/1 [==============================] - 0s 29ms/step\n",
      "1/1 [==============================] - 0s 27ms/step\n",
      "1/1 [==============================] - 0s 30ms/step\n",
      "1/1 [==============================] - 0s 28ms/step\n",
      "1/1 [==============================] - 0s 39ms/step\n",
      "1/1 [==============================] - 0s 28ms/step\n",
      "1/1 [==============================] - 0s 27ms/step\n",
      "1/1 [==============================] - 0s 41ms/step\n",
      "1/1 [==============================] - 0s 27ms/step\n",
      "1/1 [==============================] - 0s 27ms/step\n",
      "1/1 [==============================] - 0s 34ms/step\n",
      "1/1 [==============================] - 0s 43ms/step\n",
      "1/1 [==============================] - 0s 27ms/step\n",
      "1/1 [==============================] - 0s 39ms/step\n",
      "1/1 [==============================] - 0s 41ms/step\n",
      "1/1 [==============================] - 0s 27ms/step\n",
      "1/1 [==============================] - 0s 26ms/step\n",
      "1/1 [==============================] - 0s 42ms/step\n",
      "1/1 [==============================] - 0s 27ms/step\n",
      "SMTHCHQHSERIQNQNSTQPLPLPSMLNILGTCMEELNFMETPHIMNNISFLTLICKPLPMECRSCINDPEEDPWNNPCHMEHRNHIMSMFMSESNCFPEFEPPIPMPNTFNQLSCFMFEHCNMIPGPQEDHRETHHMSLICFCLPLTGPCPNTTMPPQNNMTPGTMEQTKEGEGCQEGETLKTFHPEENCCHAHPEMTT\n",
      "1/1 [==============================] - 0s 27ms/step\n",
      "1/1 [==============================] - 0s 28ms/step\n",
      "1/1 [==============================] - 0s 27ms/step\n",
      "1/1 [==============================] - 0s 31ms/step\n",
      "1/1 [==============================] - 0s 26ms/step\n",
      "1/1 [==============================] - 0s 28ms/step\n",
      "1/1 [==============================] - 0s 41ms/step\n",
      "1/1 [==============================] - 0s 29ms/step\n",
      "1/1 [==============================] - 0s 27ms/step\n",
      "1/1 [==============================] - 0s 26ms/step\n",
      "1/1 [==============================] - 0s 29ms/step\n",
      "1/1 [==============================] - 0s 43ms/step\n",
      "1/1 [==============================] - 0s 44ms/step\n",
      "1/1 [==============================] - 0s 35ms/step\n",
      "1/1 [==============================] - 0s 25ms/step\n",
      "1/1 [==============================] - 0s 25ms/step\n",
      "1/1 [==============================] - 0s 41ms/step\n",
      "1/1 [==============================] - 0s 29ms/step\n",
      "1/1 [==============================] - 0s 27ms/step\n",
      "1/1 [==============================] - 0s 30ms/step\n",
      "1/1 [==============================] - 0s 36ms/step\n",
      "1/1 [==============================] - 0s 25ms/step\n",
      "1/1 [==============================] - 0s 31ms/step\n",
      "We generated 2 new antibody sequences\n"
     ]
    }
   ],
   "source": [
    "with open(f\"run/antibody-sequence-{antigen_seq_id}.fasta\", \"w\") as f:\n",
    "    for i, sequence in enumerate(generate_interacting_antibody(antigen_sequence)):\n",
    "        print(sequence)\n",
    "        f.write(f\">{antigen_seq_id}_{i}\\n{sequence}\")\n",
    "print(f\"We generated {i} new antibody sequences\")"
   ]
  },
  {
   "cell_type": "code",
   "execution_count": null,
   "metadata": {},
   "outputs": [],
   "source": []
  },
  {
   "cell_type": "code",
   "execution_count": null,
   "metadata": {},
   "outputs": [],
   "source": []
  }
 ],
 "metadata": {
  "kernelspec": {
   "display_name": "nugget",
   "language": "python",
   "name": "nugget"
  },
  "language_info": {
   "codemirror_mode": {
    "name": "ipython",
    "version": 3
   },
   "file_extension": ".py",
   "mimetype": "text/x-python",
   "name": "python",
   "nbconvert_exporter": "python",
   "pygments_lexer": "ipython3",
   "version": "3.11.8"
  }
 },
 "nbformat": 4,
 "nbformat_minor": 2
}
