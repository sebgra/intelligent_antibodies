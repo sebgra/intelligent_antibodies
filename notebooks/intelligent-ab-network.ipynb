{
 "cells": [
  {
   "cell_type": "markdown",
   "metadata": {},
   "source": [
    "# Intelligent Antibodies\n",
    "\n",
    "> **Goal** Generate antibodies protein sequence."
   ]
  },
  {
   "cell_type": "code",
   "execution_count": 5,
   "metadata": {},
   "outputs": [
    {
     "name": "stdout",
     "output_type": "stream",
     "text": [
      "The autoreload extension is already loaded. To reload it, use:\n",
      "  %reload_ext autoreload\n"
     ]
    }
   ],
   "source": [
    "%load_ext autoreload\n",
    "%autoreload 2"
   ]
  },
  {
   "cell_type": "code",
   "execution_count": 6,
   "metadata": {},
   "outputs": [],
   "source": [
    "import keras\n",
    "from keras import layers\n",
    "import matplotlib.pyplot as plt\n",
    "import tensorflow as tf\n",
    "\n",
    "\n",
    "from modules.models.VAE import VAE\n",
    "from modules.models.VAEFull import VAEFull\n",
    "from modules.models.SiameseInteractionClassifier import f1, binary_crossentropy, mcc, forward, accuracy\n",
    "from modules.encoding import ProteinOneHotEncoder\n",
    "\n",
    "import pandas as pd\n",
    "import numpy as np"
   ]
  },
  {
   "cell_type": "code",
   "execution_count": 7,
   "metadata": {},
   "outputs": [],
   "source": [
    "gpus = tf.config.experimental.list_physical_devices('GPU')\n",
    "if gpus:\n",
    "  try:\n",
    "    tf.config.experimental.set_virtual_device_configuration(\n",
    "        gpus[0],[tf.config.experimental.VirtualDeviceConfiguration(memory_limit=5120)])\n",
    "  except RuntimeError as e:\n",
    "    print(e)"
   ]
  },
  {
   "cell_type": "code",
   "execution_count": 8,
   "metadata": {},
   "outputs": [
    {
     "name": "stdout",
     "output_type": "stream",
     "text": [
      "WARNING:tensorflow:No training configuration found in the save file, so the model was *not* compiled. Compile it manually.\n",
      "WARNING:tensorflow:No training configuration found in the save file, so the model was *not* compiled. Compile it manually.\n",
      "Reloaded.\n"
     ]
    }
   ],
   "source": [
    "vector_size = 200\n",
    "alphabet_size = 18\n",
    "input_dimensions = (vector_size, alphabet_size)\n",
    "\n",
    "vae_full = VAEFull(200, 18)\n",
    "vae_full.vae.reload(f'run/vae-one-hot-{vector_size}.keras')"
   ]
  },
  {
   "cell_type": "code",
   "execution_count": 9,
   "metadata": {},
   "outputs": [],
   "source": [
    "seq_input1 = layers.Input(shape=input_dimensions, name='seq_ag')\n",
    "seq_input2 = layers.Input(shape=input_dimensions, name='seq_ab')"
   ]
  },
  {
   "cell_type": "code",
   "execution_count": 10,
   "metadata": {},
   "outputs": [],
   "source": [
    "siamese = keras.models.load_model(f'run/models/siamese/one-hot-{vector_size}-model.h5', custom_objects=dict(f1=f1, mcc=mcc, binary_crossentropy=binary_crossentropy, forward=forward, accuracy=accuracy))"
   ]
  },
  {
   "cell_type": "code",
   "execution_count": 11,
   "metadata": {},
   "outputs": [],
   "source": [
    "# Get target antigen\n",
    "antigen_seq_id = \"6xe1\"\n",
    "\n",
    "df_seq = pd.read_csv(\"../data/SAbDab/sequences.csv\", sep=\";\")\n",
    "antigen = df_seq[df_seq[\"seq_id\"] == f\"{antigen_seq_id}|ag\"]"
   ]
  },
  {
   "cell_type": "code",
   "execution_count": 12,
   "metadata": {},
   "outputs": [],
   "source": [
    "antigen_sequence = antigen[\"sequence\"]"
   ]
  },
  {
   "cell_type": "code",
   "execution_count": 13,
   "metadata": {},
   "outputs": [],
   "source": [
    "encoder = ProteinOneHotEncoder()"
   ]
  },
  {
   "cell_type": "code",
   "execution_count": 14,
   "metadata": {},
   "outputs": [],
   "source": [
    "def generate_antibody_sequence(n, vector_size):\n",
    "    z = tf.random.normal(shape=[n, 2])\n",
    "    x_reconst = vae_full.decoder.predict(z, verbose=0)\n",
    "    latent_dim = z.shape[1]\n",
    "    for x in x_reconst:\n",
    "        x_sample = x.reshape((200, 18))\n",
    "        protein_sequence = \"\".join(list(encoder.decode(x_sample)))\n",
    "        protein_onehot = encoder.encode([protein_sequence], vector_size)\n",
    "        yield protein_sequence, protein_onehot\n"
   ]
  },
  {
   "cell_type": "code",
   "execution_count": 15,
   "metadata": {},
   "outputs": [],
   "source": [
    "def test_interaction(onehot_antibody, onehot_antigen, threshold=0.8):\n",
    "    score = siamese.predict([onehot_antibody, onehot_antigen])\n",
    "    label = tf.cast(score > threshold, tf.int32)\n",
    "    return label[0][0]"
   ]
  },
  {
   "cell_type": "code",
   "execution_count": 16,
   "metadata": {},
   "outputs": [],
   "source": [
    "def generate_interacting_antibody(antigen, limit=10, batch_size = 10):\n",
    "    onehot_antigen = encoder.encode(antigen, vector_size)\n",
    "    for _ in range(limit):\n",
    "        for sequence_antibody, onehot_antibody in generate_antibody_sequence(10, vector_size):\n",
    "            if test_interaction(onehot_antibody, onehot_antigen):\n",
    "                yield sequence_antibody\n"
   ]
  },
  {
   "cell_type": "code",
   "execution_count": 17,
   "metadata": {},
   "outputs": [
    {
     "name": "stdout",
     "output_type": "stream",
     "text": [
      "TKSQKINGQSQKGGDLPTEDIDLEACLDNDDFAKHRCFEFGQEHQIPGSPSFGSREPDDDQFEQQRKEFDFRIQARGQSSSNDFGFFRMGKKQDIDPSMRGQDSKQEDCKDQKGGEFGSGKTQEPPIHFLKSESAGQHKGNKTLTDHDIRFFMRHRSIQRFILKEKRPAMHKQPSPQHAQHIKFDSKKDDHITHGGSPSF\n"
     ]
    }
   ],
   "source": [
    "for protein_sequence, protein_onehot in generate_antibody_sequence(1, vector_size):\n",
    "    print(protein_sequence)"
   ]
  },
  {
   "cell_type": "code",
   "execution_count": 18,
   "metadata": {},
   "outputs": [
    {
     "name": "stdout",
     "output_type": "stream",
     "text": [
      "1/1 [==============================] - 1s 565ms/step\n",
      "1/1 [==============================] - 0s 12ms/step\n",
      "1/1 [==============================] - 0s 11ms/step\n",
      "HKLNDGTIRCAGPGPPSISEIGQTSTSLQDNNDNQKCFRRQFEFALRLHIAIRQTRGDPLHSMIFEFDAIGKGQFQKGIGMMIRQDKEKQQKNFQQPSDGEKMSKRLIQSKQIFPDSNAKIPSNGLLDFGFKFHMSARKGRRLEGFKLEHIRMFFISKFQFLIQPSNMIHDKFLLPAKSPPNEGIKKKQKKFGTQKAEFQ\n",
      "1/1 [==============================] - 0s 12ms/step\n",
      "1/1 [==============================] - 0s 11ms/step\n",
      "1/1 [==============================] - 0s 11ms/step\n",
      "1/1 [==============================] - 0s 12ms/step\n",
      "HKGKNDTHFRAGIQTRNDGQIGQHKIQDQIIEDQKKQFRPPGAFAQGRGDKIICFPGKMPLSTCMESNHIICGDFQKSIQEEACQDKKKSQKHFQRQPQGSGEQIIKINRFKDMIDEDRKDDDDGGLLFGFKQIMSEDMSRCRFGFKSHHLCQFFSGKCQQMAQASNSCHIKFLLEKNGNGGMGRICCFKTCGNKQSQKQ\n",
      "1/1 [==============================] - 0s 12ms/step\n",
      "1/1 [==============================] - 0s 12ms/step\n",
      "1/1 [==============================] - 0s 12ms/step\n",
      "1/1 [==============================] - 0s 11ms/step\n",
      "1/1 [==============================] - 0s 11ms/step\n",
      "1/1 [==============================] - 0s 15ms/step\n",
      "1/1 [==============================] - 0s 17ms/step\n",
      "1/1 [==============================] - 0s 13ms/step\n",
      "1/1 [==============================] - 0s 13ms/step\n",
      "1/1 [==============================] - 0s 13ms/step\n",
      "1/1 [==============================] - 0s 14ms/step\n",
      "HKEKNDTHFTARPQPRSDSSIGQLEISFQIIEDNQKQFRPPTAFLQGRMDKIIQTPGDMFGSNCMESDHIIDGDFQKSIGEMARQDKKKSQKNFQRCPDGSKEFGIKIQSKIIKIDRDFPIDSNGLLDFGFKQIMSERKGRCLEGFKSEHLRMFFSGKCQQMIQFSNSCHQGFLLKANGNGGHGNICCQKKFGLKQSQFQ\n",
      "1/1 [==============================] - 0s 24ms/step\n",
      "1/1 [==============================] - 0s 22ms/step\n",
      "1/1 [==============================] - 0s 12ms/step\n",
      "1/1 [==============================] - 0s 12ms/step\n",
      "1/1 [==============================] - 0s 13ms/step\n",
      "1/1 [==============================] - 0s 12ms/step\n",
      "1/1 [==============================] - 0s 12ms/step\n",
      "1/1 [==============================] - 0s 12ms/step\n",
      "1/1 [==============================] - 0s 12ms/step\n",
      "1/1 [==============================] - 0s 12ms/step\n",
      "1/1 [==============================] - 0s 12ms/step\n",
      "1/1 [==============================] - 0s 12ms/step\n",
      "1/1 [==============================] - 0s 12ms/step\n",
      "1/1 [==============================] - 0s 12ms/step\n",
      "1/1 [==============================] - 0s 11ms/step\n",
      "1/1 [==============================] - 0s 13ms/step\n",
      "1/1 [==============================] - 0s 15ms/step\n",
      "1/1 [==============================] - 0s 14ms/step\n",
      "HKEKNDTHFTARPQPRSDSSIGQLEISFQIIEDNQKQFRPPTAFLRGRHDKIQQTPGDMFGSNCQESDHIIDGDFQKFIGEMARQDKKKSQKNFQRCPDGSKEFGIIIQSKIIKPDRDFPIDSNGLLDFGFKQIMSERKGRRLEGFGLEHLRMFFSGKCQQMIQFSNSCHQTFLLKANGNGNHGIIICQKKFGLKQSQFQ\n",
      "1/1 [==============================] - 0s 15ms/step\n",
      "1/1 [==============================] - 0s 12ms/step\n",
      "1/1 [==============================] - 0s 13ms/step\n",
      "1/1 [==============================] - 0s 12ms/step\n",
      "1/1 [==============================] - 0s 12ms/step\n",
      "1/1 [==============================] - 0s 12ms/step\n",
      "1/1 [==============================] - 0s 11ms/step\n",
      "1/1 [==============================] - 0s 12ms/step\n",
      "1/1 [==============================] - 0s 11ms/step\n",
      "1/1 [==============================] - 0s 13ms/step\n",
      "1/1 [==============================] - 0s 12ms/step\n",
      "1/1 [==============================] - 0s 12ms/step\n",
      "1/1 [==============================] - 0s 12ms/step\n",
      "1/1 [==============================] - 0s 11ms/step\n",
      "1/1 [==============================] - 0s 11ms/step\n",
      "1/1 [==============================] - 0s 11ms/step\n",
      "1/1 [==============================] - 0s 13ms/step\n",
      "HKEKNDTHFTARPQTRNDSQIGQLIIQDQIIEDEKKQFRPPGAFAQGRMDKIICTPGKMPMSTCMESSHIICGDFQKSIQEGACQDKKKSQKNFQRCPDGSKEQGIKIPRKKIKIDSDRKDDKDGGLLFGFKQIMSERKKRCREGFKSHHLCQFFSGRCQQMAQFSNSCHIGFLLEANGNGGHGNICCFKTCGDKQSQFQ\n",
      "1/1 [==============================] - 0s 12ms/step\n",
      "1/1 [==============================] - 0s 11ms/step\n",
      "1/1 [==============================] - 0s 11ms/step\n",
      "1/1 [==============================] - 0s 12ms/step\n",
      "1/1 [==============================] - 0s 12ms/step\n",
      "1/1 [==============================] - 0s 13ms/step\n",
      "1/1 [==============================] - 0s 12ms/step\n",
      "1/1 [==============================] - 0s 12ms/step\n",
      "1/1 [==============================] - 0s 12ms/step\n",
      "1/1 [==============================] - 0s 12ms/step\n",
      "TKHQKINGSSQKGGDLPTEDIDLEACLDNDDFAIHRAFEFGQEHQIPGSKSFGSREPDDHQFEQQRKEFDARIQARGQSSSNDFGFFRMGKKQDIDPSMRGQDSFQEDCKAQKGGEFGSGKCQEPPIHFLKSELAGMHKGNKTLTDHHIRFFMRHRSIQRFILKEKRDAMHDQPSPQHAQHIKFDSKKDDHITHGGSPSF\n",
      "1/1 [==============================] - 0s 12ms/step\n",
      "1/1 [==============================] - 0s 12ms/step\n",
      "1/1 [==============================] - 0s 12ms/step\n",
      "1/1 [==============================] - 0s 12ms/step\n",
      "1/1 [==============================] - 0s 14ms/step\n",
      "1/1 [==============================] - 0s 14ms/step\n",
      "1/1 [==============================] - 0s 12ms/step\n",
      "1/1 [==============================] - 0s 12ms/step\n",
      "HKEKNDTHFTARPQPRSDSSIGQLEISFQIIEDNQKQFRPPTAFLQGRMDKIIQTPGDMFGSNCMESDHIIDGDFQKSIQEMARQDKKKSQKNFQRCPDGSKEFGIKIMSKIIKIDRDFPIDSNGLLLFGFKQIMSERKGRCLEGFKSEHLCMFFSGKCQQMIQFSNSCHQGFLLKANGNGGHGNICCQKKFGLKQSQFQ\n",
      "1/1 [==============================] - 0s 12ms/step\n",
      "HGGKNSEHFRAGIQTRNDGQIGQHKIQDQIIEDQKKQFRPKGAFAQGRGDKIICFPGKMPLSTCMESNHIIDGDFQKRIQEEACQDKKKSQKHEQRQPQGSGEQIIKINRFKDMIDEDRKDDTDGGLLFGFKQIMSEDMDRRRFGFKSHHLCQFFSGKCQQMAQASNSCHIGFLLEKNGNGGMGRICCFKTCGNKQSQKQ\n",
      "1/1 [==============================] - 0s 12ms/step\n",
      "1/1 [==============================] - 0s 12ms/step\n",
      "1/1 [==============================] - 0s 12ms/step\n",
      "1/1 [==============================] - 0s 12ms/step\n",
      "1/1 [==============================] - 0s 12ms/step\n",
      "1/1 [==============================] - 0s 11ms/step\n",
      "1/1 [==============================] - 0s 12ms/step\n",
      "1/1 [==============================] - 0s 12ms/step\n",
      "1/1 [==============================] - 0s 12ms/step\n",
      "1/1 [==============================] - 0s 13ms/step\n",
      "1/1 [==============================] - 0s 12ms/step\n",
      "1/1 [==============================] - 0s 13ms/step\n",
      "1/1 [==============================] - 0s 13ms/step\n",
      "1/1 [==============================] - 0s 13ms/step\n",
      "HKEKNDTHFTARPQTRNDGQIGQLIIQDQIIEDEKKQFRPPGAFAQGRMDKIICFPGKMPLSTCMESSHIICGDFQKSIQEEACQDKKKSQKNFQRQPDGSKEQGIKIPRKKIKIDEDRKDDKDGGLLFGFKQIMSEDKKRCREGFKSHHLCQFFSGRCQQMAQFSNSCHIGFLLEANGNGGHGRICCFKTCGDKQSQFQ\n",
      "1/1 [==============================] - 0s 17ms/step\n",
      "1/1 [==============================] - 0s 16ms/step\n",
      "1/1 [==============================] - 0s 15ms/step\n",
      "1/1 [==============================] - 0s 13ms/step\n",
      "1/1 [==============================] - 0s 12ms/step\n",
      "1/1 [==============================] - 0s 12ms/step\n",
      "1/1 [==============================] - 0s 14ms/step\n",
      "1/1 [==============================] - 0s 15ms/step\n",
      "1/1 [==============================] - 0s 15ms/step\n",
      "1/1 [==============================] - 0s 15ms/step\n",
      "1/1 [==============================] - 0s 15ms/step\n",
      "1/1 [==============================] - 0s 16ms/step\n",
      "1/1 [==============================] - 0s 15ms/step\n",
      "1/1 [==============================] - 0s 14ms/step\n",
      "We generated 8 new antibody sequences\n"
     ]
    }
   ],
   "source": [
    "with open(f\"run/antibody-sequence-{antigen_seq_id}.fasta\", \"w\") as f:\n",
    "    for i, sequence in enumerate(generate_interacting_antibody(antigen_sequence)):\n",
    "        print(sequence)\n",
    "        f.write(f\">{antigen_seq_id}_{i}\\n{sequence}\")\n",
    "print(f\"We generated {i} new antibody sequences\")"
   ]
  },
  {
   "cell_type": "code",
   "execution_count": null,
   "metadata": {},
   "outputs": [],
   "source": []
  },
  {
   "cell_type": "code",
   "execution_count": null,
   "metadata": {},
   "outputs": [],
   "source": []
  }
 ],
 "metadata": {
  "kernelspec": {
   "display_name": "test",
   "language": "python",
   "name": "python3"
  },
  "language_info": {
   "codemirror_mode": {
    "name": "ipython",
    "version": 3
   },
   "file_extension": ".py",
   "mimetype": "text/x-python",
   "name": "python",
   "nbconvert_exporter": "python",
   "pygments_lexer": "ipython3",
   "version": "3.9.18"
  }
 },
 "nbformat": 4,
 "nbformat_minor": 2
}
