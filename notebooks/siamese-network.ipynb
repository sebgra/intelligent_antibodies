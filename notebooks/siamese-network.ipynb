{
 "cells": [
  {
   "cell_type": "markdown",
   "metadata": {},
   "source": []
  },
  {
   "cell_type": "code",
   "execution_count": 22,
   "metadata": {},
   "outputs": [],
   "source": [
    "import os\n",
    "os.environ['KERAS_BACKEND'] = \"tensorflow\"\n",
    "import keras\n",
    "import keras.backend as K\n",
    "from keras import layers, Model\n",
    "from keras.optimizers import Adam\n",
    "\n",
    "\n",
    "import numpy as np\n",
    "import pandas as pd\n",
    "import matplotlib.pyplot as plt\n",
    "\n",
    "from sklearn.preprocessing import OrdinalEncoder\n",
    "from sklearn.model_selection import train_test_split\n",
    "\n",
    "import tensorflow as tf\n",
    "\n",
    "from modules.dataset import DatasetFactory\n",
    "from modules.encoding import NLFEncoder\n",
    "\n",
    "from modules.data.loader import SequenceEncodingDataGenerator"
   ]
  },
  {
   "cell_type": "code",
   "execution_count": 23,
   "metadata": {},
   "outputs": [
    {
     "name": "stdout",
     "output_type": "stream",
     "text": [
      "The autoreload extension is already loaded. To reload it, use:\n",
      "  %reload_ext autoreload\n"
     ]
    }
   ],
   "source": [
    "%load_ext autoreload\n",
    "%autoreload 2"
   ]
  },
  {
   "cell_type": "code",
   "execution_count": 24,
   "metadata": {},
   "outputs": [],
   "source": [
    "dataset_dir = \"../data/SAbDab\"\n",
    "\n",
    "df_match = pd.read_csv(os.path.join(dataset_dir, \"data.csv\"), sep=\";\")\n",
    "df_seq = pd.read_csv(os.path.join(dataset_dir, \"sequences.csv\"), sep=\";\")"
   ]
  },
  {
   "cell_type": "code",
   "execution_count": 25,
   "metadata": {},
   "outputs": [
    {
     "data": {
      "text/html": [
       "<div>\n",
       "<style scoped>\n",
       "    .dataframe tbody tr th:only-of-type {\n",
       "        vertical-align: middle;\n",
       "    }\n",
       "\n",
       "    .dataframe tbody tr th {\n",
       "        vertical-align: top;\n",
       "    }\n",
       "\n",
       "    .dataframe thead th {\n",
       "        text-align: right;\n",
       "    }\n",
       "</style>\n",
       "<table border=\"1\" class=\"dataframe\">\n",
       "  <thead>\n",
       "    <tr style=\"text-align: right;\">\n",
       "      <th></th>\n",
       "      <th>ab</th>\n",
       "      <th>ag</th>\n",
       "      <th>interaction</th>\n",
       "    </tr>\n",
       "  </thead>\n",
       "  <tbody>\n",
       "    <tr>\n",
       "      <th>0</th>\n",
       "      <td>5kel|ab</td>\n",
       "      <td>5kel|ag</td>\n",
       "      <td>1</td>\n",
       "    </tr>\n",
       "    <tr>\n",
       "      <th>1</th>\n",
       "      <td>5kel|ab</td>\n",
       "      <td>6cwt|ag</td>\n",
       "      <td>0</td>\n",
       "    </tr>\n",
       "    <tr>\n",
       "      <th>2</th>\n",
       "      <td>5kel|ab</td>\n",
       "      <td>4fp8|ag</td>\n",
       "      <td>0</td>\n",
       "    </tr>\n",
       "    <tr>\n",
       "      <th>3</th>\n",
       "      <td>5kel|ab</td>\n",
       "      <td>4yjz|ag</td>\n",
       "      <td>0</td>\n",
       "    </tr>\n",
       "    <tr>\n",
       "      <th>4</th>\n",
       "      <td>5kel|ab</td>\n",
       "      <td>6j15|ag</td>\n",
       "      <td>0</td>\n",
       "    </tr>\n",
       "  </tbody>\n",
       "</table>\n",
       "</div>"
      ],
      "text/plain": [
       "        ab       ag  interaction\n",
       "0  5kel|ab  5kel|ag            1\n",
       "1  5kel|ab  6cwt|ag            0\n",
       "2  5kel|ab  4fp8|ag            0\n",
       "3  5kel|ab  4yjz|ag            0\n",
       "4  5kel|ab  6j15|ag            0"
      ]
     },
     "execution_count": 25,
     "metadata": {},
     "output_type": "execute_result"
    }
   ],
   "source": [
    "df_match.head()"
   ]
  },
  {
   "cell_type": "markdown",
   "metadata": {},
   "source": [
    "### Filter \n",
    "\n",
    "Remove keys which does not have both an antigen and an anticorps."
   ]
  },
  {
   "cell_type": "code",
   "execution_count": 26,
   "metadata": {},
   "outputs": [
    {
     "data": {
      "text/plain": [
       "(345323, 3)"
      ]
     },
     "execution_count": 26,
     "metadata": {},
     "output_type": "execute_result"
    }
   ],
   "source": [
    "df_filtered = df_match[df_match[\"ab\"].isin(df_seq[\"seq_id\"]) & df_match[\"ag\"].isin(df_seq[\"seq_id\"])]\n",
    "df_filtered.shape"
   ]
  },
  {
   "cell_type": "code",
   "execution_count": 27,
   "metadata": {},
   "outputs": [],
   "source": [
    "df_filtered.to_csv(os.path.join(dataset_dir, \"data_filtered.csv\"), sep=\";\", index=False)"
   ]
  },
  {
   "cell_type": "code",
   "execution_count": 28,
   "metadata": {},
   "outputs": [
    {
     "data": {
      "text/plain": [
       "(421821, 3)"
      ]
     },
     "execution_count": 28,
     "metadata": {},
     "output_type": "execute_result"
    }
   ],
   "source": [
    "df_match.shape"
   ]
  },
  {
   "cell_type": "markdown",
   "metadata": {},
   "source": [
    "## Encoding\n",
    "\n",
    "### NLF\n",
    "\n",
    "We want to encode the sequence first, and retrieve the encoded for each sequence in the join later."
   ]
  },
  {
   "cell_type": "code",
   "execution_count": 29,
   "metadata": {},
   "outputs": [],
   "source": [
    "encoder = NLFEncoder()"
   ]
  },
  {
   "cell_type": "code",
   "execution_count": 30,
   "metadata": {},
   "outputs": [],
   "source": [
    "seq = df_seq[\"sequence\"].values\n",
    "encoded_seq = encoder.encode(seq, vector_size=2000)"
   ]
  },
  {
   "cell_type": "code",
   "execution_count": 31,
   "metadata": {},
   "outputs": [],
   "source": [
    "seq_id_to_nlf = {seq_id: nlf for seq_id, nlf in zip(df_seq[\"seq_id\"], encoded_seq)}"
   ]
  },
  {
   "cell_type": "code",
   "execution_count": 35,
   "metadata": {},
   "outputs": [],
   "source": [
    "X = df_filtered[[\"ab\", \"ag\"]] \n",
    "y = df_filtered[[\"interaction\"]]\n",
    "\n",
    "x_train, x_test, y_train, y_test = train_test_split(X, y, test_size=0.2, random_state=42)\n"
   ]
  },
  {
   "cell_type": "code",
   "execution_count": 36,
   "metadata": {},
   "outputs": [],
   "source": [
    "train_ds_loader = SequenceEncodingDataGenerator(x_train, y_train, seq_id_to_nlf, batch_size=32)\n",
    "test_ds_loader = SequenceEncodingDataGenerator(x_test, y_test, seq_id_to_nlf, batch_size=32)"
   ]
  },
  {
   "cell_type": "code",
   "execution_count": 37,
   "metadata": {},
   "outputs": [
    {
     "data": {
      "text/plain": [
       "(2000, 18)"
      ]
     },
     "execution_count": 37,
     "metadata": {},
     "output_type": "execute_result"
    }
   ],
   "source": [
    "example_batch = train_ds_loader[0]\n",
    "input_dimensions = example_batch[0][0].shape\n",
    "input_dimensions"
   ]
  },
  {
   "cell_type": "markdown",
   "metadata": {},
   "source": [
    "## Siamese network"
   ]
  },
  {
   "cell_type": "code",
   "execution_count": 38,
   "metadata": {},
   "outputs": [],
   "source": [
    "seq_input1 = layers.Input(shape=input_dimensions, name='seq_ag')\n",
    "seq_input2 = layers.Input(shape=input_dimensions, name='seq_ab')"
   ]
  },
  {
   "cell_type": "code",
   "execution_count": 39,
   "metadata": {},
   "outputs": [],
   "source": [
    "# Convolutional modules\n",
    "filters = 96\n",
    "\n",
    "\n",
    "conv01 = layers.Conv1D(filters, 11, padding='same', activation=\"relu\")\n",
    "mp1 = layers.MaxPooling1D(3)\n",
    "conv02 = layers.Conv1D(filters*2, 7, padding='same', activation=\"relu\")\n",
    "mp2 = layers.MaxPooling1D(3)\n",
    "conv03 = layers.Conv1D(filters*4, 3, padding='same', activation=\"relu\")\n",
    "mp3 = layers.MaxPooling1D(3)\n",
    "conv04 = layers.Conv1D(filters*2, 3, padding='same', activation=\"relu\")\n",
    "mp4 = layers.MaxPooling1D(3)\n",
    "\n",
    "gru = layers.Bidirectional(layers.GRU(filters, return_sequences=False))\n",
    "\n",
    "def siamese_propagation(x):\n",
    "    x = conv01(x)\n",
    "    x = mp1(x)\n",
    "\n",
    "    x = conv02(x)\n",
    "    x = mp2(x)\n",
    "\n",
    "    x = conv03(x)\n",
    "    x = mp3(x)\n",
    "\n",
    "    x = conv04(x)\n",
    "    x = mp4(x)\n",
    "\n",
    "    x_gru = gru(x)\n",
    "    return x_gru\n",
    "\n"
   ]
  },
  {
   "cell_type": "code",
   "execution_count": 40,
   "metadata": {},
   "outputs": [],
   "source": [
    "def forward(left, right):\n",
    "    left = siamese_propagation(left)\n",
    "    right = siamese_propagation(right)\n",
    "\n",
    "    merge = layers.multiply([left, right])\n",
    "\n",
    "    # merge = layers.Dense(filters*2, activation='relu')(merge)\n",
    "    merge = layers.Dropout(0.2)(merge)\n",
    "    return layers.Dense(1, activation='sigmoid')(merge)"
   ]
  },
  {
   "cell_type": "code",
   "execution_count": 41,
   "metadata": {},
   "outputs": [],
   "source": [
    "def f1(y_true, y_pred):\n",
    "    tp = K.sum(K.round(K.clip(y_true * y_pred, 0, 1)))\n",
    "    possible_positives = K.sum(K.round(K.clip(y_true, 0, 1)))\n",
    "    pred_pos = K.sum(K.round(K.clip(y_pred, 0, 1)))\n",
    "    precision = tp / (pred_pos + K.epsilon())\n",
    "    recall = tp / (possible_positives + K.epsilon())\n",
    "    f1_val = 2*(precision*recall)/(precision+recall+K.epsilon())\n",
    "    return f1_val\n",
    "\n",
    "def mcc(y_true, y_pred):\n",
    "    y_pred_pos = K.round(K.clip(y_pred, 0, 1))\n",
    "    y_pred_neg = 1 - y_pred_pos\n",
    "    y_pos = K.round(K.clip(y_true, 0, 1))\n",
    "    y_neg = 1 - y_pos\n",
    "    tp = K.sum(y_pos * y_pred_pos)\n",
    "    tn = K.sum(y_neg * y_pred_neg)\n",
    "    fp = K.sum(y_neg * y_pred_pos)\n",
    "    fn = K.sum(y_pos * y_pred_neg)\n",
    "    numerator = (tp * tn - fp * fn)\n",
    "    denominator = K.sqrt((tp + fp) * (tp + fn) * (tn + fp) * (tn + fn))\n",
    "    return numerator / (denominator + K.epsilon())\n",
    "\n",
    "def accuracy(y_true, y_pred):\n",
    "    y_pred_pos = K.round(K.clip(y_pred, 0, 1))\n",
    "    y_pred_neg = 1 - y_pred_pos\n",
    "    y_pos = K.round(K.clip(y_true, 0, 1))\n",
    "    y_neg = 1 - y_pos\n",
    "    tp = K.sum(y_pos * y_pred_pos)\n",
    "    tn = K.sum(y_neg * y_pred_neg)\n",
    "    fp = K.sum(y_neg * y_pred_pos)\n",
    "    fn = K.sum(y_pos * y_pred_neg)\n",
    "    return (tp + tn) / (tp + tn + fp + fn)"
   ]
  },
  {
   "cell_type": "code",
   "execution_count": 42,
   "metadata": {},
   "outputs": [],
   "source": [
    "def binary_crossentropy(y_true, y_pred):\n",
    "    y_pred = K.clip(y_pred, K.epsilon(), 1 - K.epsilon())\n",
    "    loss = - K.mean(y_true * K.log(y_pred) + (1 - y_true) * K.log(1 - y_pred))\n",
    "    return loss"
   ]
  },
  {
   "cell_type": "code",
   "execution_count": 43,
   "metadata": {},
   "outputs": [],
   "source": [
    "subset = train_ds_loader[:10]\n"
   ]
  },
  {
   "cell_type": "code",
   "execution_count": 44,
   "metadata": {},
   "outputs": [
    {
     "data": {
      "text/plain": [
       "(10, 2000, 18)"
      ]
     },
     "execution_count": 44,
     "metadata": {},
     "output_type": "execute_result"
    }
   ],
   "source": [
    "subset_ag = []\n",
    "subset_ab = []\n",
    "subset_y = []\n",
    "\n",
    "for item in subset:\n",
    "    subset_x = item[0]\n",
    "    ag, ab = subset_x\n",
    "    for x in [ag, ab]:\n",
    "        x = x.reshape((-1, 2000, 18))\n",
    "        x = x[0]\n",
    "    subset_ag.append(ag)\n",
    "    subset_ab.append(ab)\n",
    "    subset_y.append(item[1])\n",
    "\n",
    "subset_ag = np.array(subset_ag)\n",
    "subset_ab = np.array(subset_ab)\n",
    "subset_y = np.array(subset_y)\n",
    "subset_ag.shape"
   ]
  },
  {
   "cell_type": "code",
   "execution_count": 45,
   "metadata": {},
   "outputs": [
    {
     "name": "stdout",
     "output_type": "stream",
     "text": [
      "Epoch 1/50\n",
      "1/1 [==============================] - 8s 8s/step - loss: 0.6747 - accuracy: 1.0000 - f1: 0.0000e+00 - mcc: 0.0000e+00 - val_loss: 0.6645 - val_accuracy: 1.0000 - val_f1: 0.0000e+00 - val_mcc: 0.0000e+00\n",
      "Epoch 2/50\n",
      "1/1 [==============================] - ETA: 0s - loss: 0.6652 - accuracy: 1.0000 - f1: 0.0000e+00 - mcc: 0.0000e+00"
     ]
    },
    {
     "name": "stderr",
     "output_type": "stream",
     "text": [
      "/home/sortion/.local/share/miniforge3/envs/intelligent-antibodies/lib/python3.11/site-packages/keras/src/engine/training.py:3103: UserWarning: You are saving your model as an HDF5 file via `model.save()`. This file format is considered legacy. We recommend using instead the native Keras format, e.g. `model.save('my_model.keras')`.\n",
      "  saving_api.save_model(\n"
     ]
    },
    {
     "name": "stdout",
     "output_type": "stream",
     "text": [
      "1/1 [==============================] - 0s 227ms/step - loss: 0.6652 - accuracy: 1.0000 - f1: 0.0000e+00 - mcc: 0.0000e+00 - val_loss: 0.6494 - val_accuracy: 1.0000 - val_f1: 0.0000e+00 - val_mcc: 0.0000e+00\n",
      "Epoch 3/50\n",
      "1/1 [==============================] - 0s 231ms/step - loss: 0.6492 - accuracy: 1.0000 - f1: 0.0000e+00 - mcc: 0.0000e+00 - val_loss: 0.6306 - val_accuracy: 1.0000 - val_f1: 0.0000e+00 - val_mcc: 0.0000e+00\n",
      "Epoch 4/50\n",
      "1/1 [==============================] - 0s 265ms/step - loss: 0.6311 - accuracy: 1.0000 - f1: 0.0000e+00 - mcc: 0.0000e+00 - val_loss: 0.6074 - val_accuracy: 1.0000 - val_f1: 0.0000e+00 - val_mcc: 0.0000e+00\n",
      "Epoch 5/50\n",
      "1/1 [==============================] - 0s 213ms/step - loss: 0.6032 - accuracy: 1.0000 - f1: 0.0000e+00 - mcc: 0.0000e+00 - val_loss: 0.5794 - val_accuracy: 1.0000 - val_f1: 0.0000e+00 - val_mcc: 0.0000e+00\n",
      "Epoch 6/50\n",
      "1/1 [==============================] - 0s 199ms/step - loss: 0.5783 - accuracy: 1.0000 - f1: 0.0000e+00 - mcc: 0.0000e+00 - val_loss: 0.5463 - val_accuracy: 1.0000 - val_f1: 0.0000e+00 - val_mcc: 0.0000e+00\n",
      "Epoch 7/50\n",
      "1/1 [==============================] - 0s 251ms/step - loss: 0.5433 - accuracy: 1.0000 - f1: 0.0000e+00 - mcc: 0.0000e+00 - val_loss: 0.5080 - val_accuracy: 1.0000 - val_f1: 0.0000e+00 - val_mcc: 0.0000e+00\n",
      "Epoch 8/50\n",
      "1/1 [==============================] - 0s 210ms/step - loss: 0.5169 - accuracy: 1.0000 - f1: 0.0000e+00 - mcc: 0.0000e+00 - val_loss: 0.4651 - val_accuracy: 1.0000 - val_f1: 0.0000e+00 - val_mcc: 0.0000e+00\n",
      "Epoch 9/50\n",
      "1/1 [==============================] - 0s 211ms/step - loss: 0.4638 - accuracy: 1.0000 - f1: 0.0000e+00 - mcc: 0.0000e+00 - val_loss: 0.4184 - val_accuracy: 1.0000 - val_f1: 0.0000e+00 - val_mcc: 0.0000e+00\n",
      "Epoch 10/50\n",
      "1/1 [==============================] - 0s 207ms/step - loss: 0.4251 - accuracy: 1.0000 - f1: 0.0000e+00 - mcc: 0.0000e+00 - val_loss: 0.3693 - val_accuracy: 1.0000 - val_f1: 0.0000e+00 - val_mcc: 0.0000e+00\n",
      "Epoch 11/50\n",
      "1/1 [==============================] - 0s 214ms/step - loss: 0.3864 - accuracy: 1.0000 - f1: 0.0000e+00 - mcc: 0.0000e+00 - val_loss: 0.3196 - val_accuracy: 1.0000 - val_f1: 0.0000e+00 - val_mcc: 0.0000e+00\n",
      "Epoch 12/50\n",
      "1/1 [==============================] - 0s 220ms/step - loss: 0.3512 - accuracy: 1.0000 - f1: 0.0000e+00 - mcc: 0.0000e+00 - val_loss: 0.2713 - val_accuracy: 1.0000 - val_f1: 0.0000e+00 - val_mcc: 0.0000e+00\n",
      "Epoch 13/50\n",
      "1/1 [==============================] - 0s 207ms/step - loss: 0.3069 - accuracy: 1.0000 - f1: 0.0000e+00 - mcc: 0.0000e+00 - val_loss: 0.2264 - val_accuracy: 1.0000 - val_f1: 0.0000e+00 - val_mcc: 0.0000e+00\n",
      "Epoch 14/50\n",
      "1/1 [==============================] - 0s 216ms/step - loss: 0.2738 - accuracy: 1.0000 - f1: 0.0000e+00 - mcc: 0.0000e+00 - val_loss: 0.1864 - val_accuracy: 1.0000 - val_f1: 0.0000e+00 - val_mcc: 0.0000e+00\n",
      "Epoch 15/50\n",
      "1/1 [==============================] - 0s 202ms/step - loss: 0.2341 - accuracy: 1.0000 - f1: 0.0000e+00 - mcc: 0.0000e+00 - val_loss: 0.1520 - val_accuracy: 1.0000 - val_f1: 0.0000e+00 - val_mcc: 0.0000e+00\n",
      "Epoch 16/50\n",
      "1/1 [==============================] - 0s 216ms/step - loss: 0.1954 - accuracy: 1.0000 - f1: 0.0000e+00 - mcc: 0.0000e+00 - val_loss: 0.1234 - val_accuracy: 1.0000 - val_f1: 0.0000e+00 - val_mcc: 0.0000e+00\n",
      "Epoch 17/50\n",
      "1/1 [==============================] - 0s 212ms/step - loss: 0.1685 - accuracy: 1.0000 - f1: 0.0000e+00 - mcc: 0.0000e+00 - val_loss: 0.1005 - val_accuracy: 1.0000 - val_f1: 0.0000e+00 - val_mcc: 0.0000e+00\n",
      "Epoch 18/50\n",
      "1/1 [==============================] - 0s 220ms/step - loss: 0.1698 - accuracy: 1.0000 - f1: 0.0000e+00 - mcc: 0.0000e+00 - val_loss: 0.0824 - val_accuracy: 1.0000 - val_f1: 0.0000e+00 - val_mcc: 0.0000e+00\n",
      "Epoch 19/50\n",
      "1/1 [==============================] - 0s 213ms/step - loss: 0.1412 - accuracy: 1.0000 - f1: 0.0000e+00 - mcc: 0.0000e+00 - val_loss: 0.0682 - val_accuracy: 1.0000 - val_f1: 0.0000e+00 - val_mcc: 0.0000e+00\n",
      "Epoch 20/50\n",
      "1/1 [==============================] - 0s 226ms/step - loss: 0.1425 - accuracy: 1.0000 - f1: 0.0000e+00 - mcc: 0.0000e+00 - val_loss: 0.0570 - val_accuracy: 1.0000 - val_f1: 0.0000e+00 - val_mcc: 0.0000e+00\n",
      "Epoch 21/50\n",
      "1/1 [==============================] - 0s 222ms/step - loss: 0.1230 - accuracy: 1.0000 - f1: 0.0000e+00 - mcc: 0.0000e+00 - val_loss: 0.0482 - val_accuracy: 1.0000 - val_f1: 0.0000e+00 - val_mcc: 0.0000e+00\n",
      "Epoch 22/50\n",
      "1/1 [==============================] - 0s 223ms/step - loss: 0.1194 - accuracy: 1.0000 - f1: 0.0000e+00 - mcc: 0.0000e+00 - val_loss: 0.0411 - val_accuracy: 1.0000 - val_f1: 0.0000e+00 - val_mcc: 0.0000e+00\n",
      "Epoch 23/50\n",
      "1/1 [==============================] - 0s 216ms/step - loss: 0.1119 - accuracy: 1.0000 - f1: 0.0000e+00 - mcc: 0.0000e+00 - val_loss: 0.0355 - val_accuracy: 1.0000 - val_f1: 0.0000e+00 - val_mcc: 0.0000e+00\n",
      "Epoch 24/50\n",
      "1/1 [==============================] - 0s 214ms/step - loss: 0.1091 - accuracy: 1.0000 - f1: 0.0000e+00 - mcc: 0.0000e+00 - val_loss: 0.0308 - val_accuracy: 1.0000 - val_f1: 0.0000e+00 - val_mcc: 0.0000e+00\n",
      "Epoch 25/50\n",
      "1/1 [==============================] - 0s 271ms/step - loss: 0.0990 - accuracy: 1.0000 - f1: 0.0000e+00 - mcc: 0.0000e+00 - val_loss: 0.0270 - val_accuracy: 1.0000 - val_f1: 0.0000e+00 - val_mcc: 0.0000e+00\n",
      "Epoch 26/50\n",
      "1/1 [==============================] - 0s 215ms/step - loss: 0.0991 - accuracy: 1.0000 - f1: 0.0000e+00 - mcc: 0.0000e+00 - val_loss: 0.0238 - val_accuracy: 1.0000 - val_f1: 0.0000e+00 - val_mcc: 0.0000e+00\n",
      "Epoch 27/50\n",
      "1/1 [==============================] - 0s 214ms/step - loss: 0.0939 - accuracy: 1.0000 - f1: 0.0000e+00 - mcc: 0.0000e+00 - val_loss: 0.0212 - val_accuracy: 1.0000 - val_f1: 0.0000e+00 - val_mcc: 0.0000e+00\n",
      "Epoch 28/50\n",
      "1/1 [==============================] - 0s 221ms/step - loss: 0.0915 - accuracy: 1.0000 - f1: 0.0000e+00 - mcc: 0.0000e+00 - val_loss: 0.0190 - val_accuracy: 1.0000 - val_f1: 0.0000e+00 - val_mcc: 0.0000e+00\n",
      "Epoch 29/50\n",
      "1/1 [==============================] - 0s 208ms/step - loss: 0.0869 - accuracy: 1.0000 - f1: 0.0000e+00 - mcc: 0.0000e+00 - val_loss: 0.0171 - val_accuracy: 1.0000 - val_f1: 0.0000e+00 - val_mcc: 0.0000e+00\n",
      "Epoch 30/50\n",
      "1/1 [==============================] - 0s 210ms/step - loss: 0.0919 - accuracy: 1.0000 - f1: 0.0000e+00 - mcc: 0.0000e+00 - val_loss: 0.0156 - val_accuracy: 1.0000 - val_f1: 0.0000e+00 - val_mcc: 0.0000e+00\n",
      "Epoch 31/50\n",
      "1/1 [==============================] - 0s 212ms/step - loss: 0.0805 - accuracy: 1.0000 - f1: 0.0000e+00 - mcc: 0.0000e+00 - val_loss: 0.0142 - val_accuracy: 1.0000 - val_f1: 0.0000e+00 - val_mcc: 0.0000e+00\n",
      "Epoch 32/50\n",
      "1/1 [==============================] - 0s 229ms/step - loss: 0.0835 - accuracy: 1.0000 - f1: 0.0000e+00 - mcc: 0.0000e+00 - val_loss: 0.0131 - val_accuracy: 1.0000 - val_f1: 0.0000e+00 - val_mcc: 0.0000e+00\n",
      "Epoch 33/50\n",
      "1/1 [==============================] - 0s 213ms/step - loss: 0.0804 - accuracy: 1.0000 - f1: 0.0000e+00 - mcc: 0.0000e+00 - val_loss: 0.0121 - val_accuracy: 1.0000 - val_f1: 0.0000e+00 - val_mcc: 0.0000e+00\n",
      "Epoch 34/50\n",
      "1/1 [==============================] - 0s 237ms/step - loss: 0.0834 - accuracy: 1.0000 - f1: 0.0000e+00 - mcc: 0.0000e+00 - val_loss: 0.0112 - val_accuracy: 1.0000 - val_f1: 0.0000e+00 - val_mcc: 0.0000e+00\n",
      "Epoch 35/50\n",
      "1/1 [==============================] - 0s 216ms/step - loss: 0.0770 - accuracy: 1.0000 - f1: 0.0000e+00 - mcc: 0.0000e+00 - val_loss: 0.0105 - val_accuracy: 1.0000 - val_f1: 0.0000e+00 - val_mcc: 0.0000e+00\n",
      "Epoch 36/50\n",
      "1/1 [==============================] - 0s 219ms/step - loss: 0.0755 - accuracy: 1.0000 - f1: 0.0000e+00 - mcc: 0.0000e+00 - val_loss: 0.0098 - val_accuracy: 1.0000 - val_f1: 0.0000e+00 - val_mcc: 0.0000e+00\n",
      "Epoch 37/50\n",
      "1/1 [==============================] - 0s 226ms/step - loss: 0.0707 - accuracy: 1.0000 - f1: 0.0000e+00 - mcc: 0.0000e+00 - val_loss: 0.0092 - val_accuracy: 1.0000 - val_f1: 0.0000e+00 - val_mcc: 0.0000e+00\n",
      "Epoch 38/50\n",
      "1/1 [==============================] - 0s 236ms/step - loss: 0.0710 - accuracy: 1.0000 - f1: 0.0000e+00 - mcc: 0.0000e+00 - val_loss: 0.0087 - val_accuracy: 1.0000 - val_f1: 0.0000e+00 - val_mcc: 0.0000e+00\n",
      "Epoch 39/50\n",
      "1/1 [==============================] - 0s 219ms/step - loss: 0.0647 - accuracy: 1.0000 - f1: 0.0000e+00 - mcc: 0.0000e+00 - val_loss: 0.0083 - val_accuracy: 1.0000 - val_f1: 0.0000e+00 - val_mcc: 0.0000e+00\n",
      "Epoch 40/50\n",
      "1/1 [==============================] - 0s 213ms/step - loss: 0.0663 - accuracy: 1.0000 - f1: 0.0000e+00 - mcc: 0.0000e+00 - val_loss: 0.0078 - val_accuracy: 1.0000 - val_f1: 0.0000e+00 - val_mcc: 0.0000e+00\n",
      "Epoch 41/50\n",
      "1/1 [==============================] - 0s 241ms/step - loss: 0.0640 - accuracy: 1.0000 - f1: 0.0000e+00 - mcc: 0.0000e+00 - val_loss: 0.0075 - val_accuracy: 1.0000 - val_f1: 0.0000e+00 - val_mcc: 0.0000e+00\n",
      "Epoch 42/50\n",
      "1/1 [==============================] - 0s 218ms/step - loss: 0.0666 - accuracy: 1.0000 - f1: 0.0000e+00 - mcc: 0.0000e+00 - val_loss: 0.0071 - val_accuracy: 1.0000 - val_f1: 0.0000e+00 - val_mcc: 0.0000e+00\n",
      "Epoch 43/50\n",
      "1/1 [==============================] - 0s 220ms/step - loss: 0.0577 - accuracy: 1.0000 - f1: 0.0000e+00 - mcc: 0.0000e+00 - val_loss: 0.0068 - val_accuracy: 1.0000 - val_f1: 0.0000e+00 - val_mcc: 0.0000e+00\n",
      "Epoch 44/50\n",
      "1/1 [==============================] - 0s 240ms/step - loss: 0.0576 - accuracy: 1.0000 - f1: 0.0000e+00 - mcc: 0.0000e+00 - val_loss: 0.0066 - val_accuracy: 1.0000 - val_f1: 0.0000e+00 - val_mcc: 0.0000e+00\n",
      "Epoch 45/50\n",
      "1/1 [==============================] - 0s 216ms/step - loss: 0.0591 - accuracy: 1.0000 - f1: 0.0000e+00 - mcc: 0.0000e+00 - val_loss: 0.0063 - val_accuracy: 1.0000 - val_f1: 0.0000e+00 - val_mcc: 0.0000e+00\n",
      "Epoch 46/50\n",
      "1/1 [==============================] - 0s 215ms/step - loss: 0.0552 - accuracy: 1.0000 - f1: 0.0000e+00 - mcc: 0.0000e+00 - val_loss: 0.0061 - val_accuracy: 1.0000 - val_f1: 0.0000e+00 - val_mcc: 0.0000e+00\n",
      "Epoch 47/50\n",
      "1/1 [==============================] - 0s 223ms/step - loss: 0.0558 - accuracy: 1.0000 - f1: 0.0000e+00 - mcc: 0.0000e+00 - val_loss: 0.0058 - val_accuracy: 1.0000 - val_f1: 0.0000e+00 - val_mcc: 0.0000e+00\n",
      "Epoch 48/50\n",
      "1/1 [==============================] - 0s 220ms/step - loss: 0.0543 - accuracy: 1.0000 - f1: 0.0000e+00 - mcc: 0.0000e+00 - val_loss: 0.0056 - val_accuracy: 1.0000 - val_f1: 0.0000e+00 - val_mcc: 0.0000e+00\n",
      "Epoch 49/50\n",
      "1/1 [==============================] - 0s 217ms/step - loss: 0.0484 - accuracy: 1.0000 - f1: 0.0000e+00 - mcc: 0.0000e+00 - val_loss: 0.0054 - val_accuracy: 1.0000 - val_f1: 0.0000e+00 - val_mcc: 0.0000e+00\n",
      "Epoch 50/50\n",
      "1/1 [==============================] - 0s 242ms/step - loss: 0.0526 - accuracy: 1.0000 - f1: 0.0000e+00 - mcc: 0.0000e+00 - val_loss: 0.0052 - val_accuracy: 1.0000 - val_f1: 0.0000e+00 - val_mcc: 0.0000e+00\n"
     ]
    },
    {
     "data": {
      "text/plain": [
       "<keras.src.callbacks.History at 0x7fce905df0d0>"
      ]
     },
     "execution_count": 45,
     "metadata": {},
     "output_type": "execute_result"
    }
   ],
   "source": [
    "model = Model(inputs=[seq_input1, seq_input2],\n",
    "            outputs=[forward(seq_input1, seq_input2)])\n",
    "\n",
    "adam = Adam(learning_rate=1e-4, amsgrad=True, epsilon=1e-6)\n",
    "\n",
    "checkpoint_callback = keras.callbacks.ModelCheckpoint('run/siamese/model.h5', monitor='val_mcc', mode='max')\n",
    "earlystop_callback = keras.callbacks.EarlyStopping(monitor=\"val_loss\", patience=5)\n",
    "\n",
    "model.compile(optimizer=adam, loss=binary_crossentropy, metrics=[accuracy, f1, mcc])\n",
    "\n",
    "\n",
    "model.fit([subset_ag, subset_ab], subset_y, epochs=50, callbacks=[checkpoint_callback, earlystop_callback],\n",
    "          batch_size=64, verbose=1, validation_split=0.15)\n"
   ]
  },
  {
   "cell_type": "code",
   "execution_count": null,
   "metadata": {},
   "outputs": [
    {
     "data": {
      "text/plain": [
       "276258"
      ]
     },
     "execution_count": 73,
     "metadata": {},
     "output_type": "execute_result"
    }
   ],
   "source": [
    "len(train_ds_loader)"
   ]
  },
  {
   "cell_type": "code",
   "execution_count": null,
   "metadata": {},
   "outputs": [
    {
     "data": {
      "text/plain": [
       "<KerasTensor: shape=(None, 2, 2000, 18) dtype=float32 (created by layer 'seq_ag')>"
      ]
     },
     "execution_count": 88,
     "metadata": {},
     "output_type": "execute_result"
    }
   ],
   "source": [
    "seq_input1"
   ]
  },
  {
   "cell_type": "code",
   "execution_count": null,
   "metadata": {},
   "outputs": [],
   "source": [
    "# Siamese model using GRU\n",
    "seq_input1 = layers.Input(shape=input_dimensions, name='seq_ag')\n",
    "seq_input2 = layers.Input(shape=input_dimensions, name='seq_ab')\n",
    "\n",
    "# Convolutional modules\n"
   ]
  },
  {
   "cell_type": "code",
   "execution_count": null,
   "metadata": {},
   "outputs": [
    {
     "data": {
      "text/html": [
       "<div>\n",
       "<style scoped>\n",
       "    .dataframe tbody tr th:only-of-type {\n",
       "        vertical-align: middle;\n",
       "    }\n",
       "\n",
       "    .dataframe tbody tr th {\n",
       "        vertical-align: top;\n",
       "    }\n",
       "\n",
       "    .dataframe thead th {\n",
       "        text-align: right;\n",
       "    }\n",
       "</style>\n",
       "<table border=\"1\" class=\"dataframe\">\n",
       "  <thead>\n",
       "    <tr style=\"text-align: right;\">\n",
       "      <th></th>\n",
       "      <th>ab</th>\n",
       "      <th>ag</th>\n",
       "      <th>interaction</th>\n",
       "    </tr>\n",
       "  </thead>\n",
       "  <tbody>\n",
       "    <tr>\n",
       "      <th>0</th>\n",
       "      <td>5kel|ab</td>\n",
       "      <td>5kel|ag</td>\n",
       "      <td>1</td>\n",
       "    </tr>\n",
       "    <tr>\n",
       "      <th>1</th>\n",
       "      <td>5kel|ab</td>\n",
       "      <td>6cwt|ag</td>\n",
       "      <td>0</td>\n",
       "    </tr>\n",
       "    <tr>\n",
       "      <th>2</th>\n",
       "      <td>5kel|ab</td>\n",
       "      <td>4fp8|ag</td>\n",
       "      <td>0</td>\n",
       "    </tr>\n",
       "    <tr>\n",
       "      <th>3</th>\n",
       "      <td>5kel|ab</td>\n",
       "      <td>4yjz|ag</td>\n",
       "      <td>0</td>\n",
       "    </tr>\n",
       "    <tr>\n",
       "      <th>4</th>\n",
       "      <td>5kel|ab</td>\n",
       "      <td>6j15|ag</td>\n",
       "      <td>0</td>\n",
       "    </tr>\n",
       "  </tbody>\n",
       "</table>\n",
       "</div>"
      ],
      "text/plain": [
       "        ab       ag  interaction\n",
       "0  5kel|ab  5kel|ag            1\n",
       "1  5kel|ab  6cwt|ag            0\n",
       "2  5kel|ab  4fp8|ag            0\n",
       "3  5kel|ab  4yjz|ag            0\n",
       "4  5kel|ab  6j15|ag            0"
      ]
     },
     "execution_count": 38,
     "metadata": {},
     "output_type": "execute_result"
    }
   ],
   "source": [
    "df_filtered.head()"
   ]
  },
  {
   "cell_type": "code",
   "execution_count": null,
   "metadata": {},
   "outputs": [],
   "source": [
    "df_filtered[\"ab\"].dtype == "
   ]
  }
 ],
 "metadata": {
  "kernelspec": {
   "display_name": "intelligent-antibodies",
   "language": "python",
   "name": "python3"
  },
  "language_info": {
   "codemirror_mode": {
    "name": "ipython",
    "version": 3
   },
   "file_extension": ".py",
   "mimetype": "text/x-python",
   "name": "python",
   "nbconvert_exporter": "python",
   "pygments_lexer": "ipython3",
   "version": "3.11.8"
  }
 },
 "nbformat": 4,
 "nbformat_minor": 2
}
