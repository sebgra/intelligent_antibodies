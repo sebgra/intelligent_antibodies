{
 "cells": [
  {
   "cell_type": "code",
   "execution_count": null,
   "metadata": {},
   "outputs": [],
   "source": [
    "%load_ext autoreload\n",
    "%autoreload 2"
   ]
  },
  {
   "cell_type": "code",
   "execution_count": 101,
   "metadata": {},
   "outputs": [],
   "source": [
    "import os\n",
    "os.environ['KERAS_BACKEND'] = \"torch\"\n",
    "import keras\n",
    "import keras.backend as K\n",
    "import keras.layers\n",
    "\n",
    "import numpy as np\n",
    "import pandas as pd\n",
    "import matplotlib.pyplot as plt\n",
    "\n",
    "from sklearn.preprocessing import OrdinalEncoder\n",
    "from sklearn.model_selection import train_test_split\n",
    "\n",
    "from modules.dataset import DatasetFactory\n",
    "from modules.encoding import NLFEncoder"
   ]
  },
  {
   "cell_type": "code",
   "execution_count": null,
   "metadata": {},
   "outputs": [],
   "source": [
    "dataset_dir = \"../data/SAbDab\"\n",
    "\n",
    "df_match = pd.read_csv(os.path.join(dataset_dir, \"data.csv\"), sep=\";\")\n",
    "df_seq = pd.read_csv(os.path.join(dataset_dir, \"sequences.csv\"), sep=\";\")"
   ]
  },
  {
   "cell_type": "code",
   "execution_count": null,
   "metadata": {},
   "outputs": [],
   "source": [
    "df_match.head()"
   ]
  },
  {
   "cell_type": "markdown",
   "metadata": {},
   "source": [
    "### Filter \n",
    "\n",
    "Remove keys which does not have both an antigen and an anticorps."
   ]
  },
  {
   "cell_type": "code",
   "execution_count": null,
   "metadata": {},
   "outputs": [],
   "source": [
    "df_filtered = df_match[df_match[\"ab\"].isin(df_seq[\"seq_id\"]) & df_match[\"ag\"].isin(df_seq[\"seq_id\"])]\n",
    "df_filtered.shape"
   ]
  },
  {
   "cell_type": "code",
   "execution_count": null,
   "metadata": {},
   "outputs": [],
   "source": [
    "df_match.shape"
   ]
  },
  {
   "cell_type": "markdown",
   "metadata": {},
   "source": [
    "## Encoding\n",
    "\n",
    "### NLF\n",
    "\n",
    "We want to encode the sequence first, and retrieve the encoded for each sequence in the join later."
   ]
  },
  {
   "cell_type": "code",
   "execution_count": null,
   "metadata": {},
   "outputs": [],
   "source": [
    "encoder = NLFEncoder()"
   ]
  },
  {
   "cell_type": "code",
   "execution_count": null,
   "metadata": {},
   "outputs": [],
   "source": [
    "seq = df_seq[\"sequence\"].values\n",
    "encoded_seq = encoder.encode(seq)"
   ]
  },
  {
   "cell_type": "code",
   "execution_count": null,
   "metadata": {},
   "outputs": [],
   "source": [
    "seq_id_to_nlf = {seq_id: nlf for seq_id, nlf in zip(df_seq[\"seq_id\"], encoded_seq)}"
   ]
  },
  {
   "cell_type": "code",
   "execution_count": null,
   "metadata": {},
   "outputs": [],
   "source": [
    "\n",
    "x_ag = df_filtered[\"ag\"].map(lambda x: seq_id_to_nlf[x])\n",
    "x_ab = df_filtered[\"ab\"].map(lambda x: seq_id_to_nlf[x])"
   ]
  },
  {
   "cell_type": "markdown",
   "metadata": {},
   "source": [
    "## Siamese network"
   ]
  },
  {
   "cell_type": "code",
   "execution_count": null,
   "metadata": {},
   "outputs": [],
   "source": [
    "# Convolutional modules\n",
    "filters = 96\n",
    "\n",
    "conv01 = layers.Conv1D(filters, 11, padding='same', activation=\"relu\")\n",
    "mp1 = layers.MaxPooling1D(3)\n",
    "conv02 = layers.Conv1D(filters*2, 7, padding='same', activation=\"relu\")\n",
    "mp2 = layers.MaxPooling1D(3)\n",
    "conv03 = layers.Conv1D(filters*4, 3, padding='same', activation=\"relu\")\n",
    "mp3 = layers.MaxPooling1D(3)\n",
    "conv04 = layers.Conv1D(filters*2, 3, padding='same', activation=\"relu\")\n",
    "mp4 = layers.MaxPooling1D(3)\n",
    "\n",
    "gru = layers.Bidirectional(layers.CuDNNGRU(filters, return_sequences=False))\n",
    "if not gpus:\n",
    "    gru = layers.Bidirectional(layers.GRU(filters, return_sequences=False))\n",
    "\n",
    "def siamese_propagation(x):\n",
    "    #Enter your code here to create a Siamese module\n",
    "    \n",
    "    return x"
   ]
  }
 ],
 "metadata": {
  "kernelspec": {
   "display_name": "intelligent-antibodies",
   "language": "python",
   "name": "python3"
  },
  "language_info": {
   "codemirror_mode": {
    "name": "ipython",
    "version": 3
   },
   "file_extension": ".py",
   "mimetype": "text/x-python",
   "name": "python",
   "nbconvert_exporter": "python",
   "pygments_lexer": "ipython3",
   "version": "3.11.8"
  }
 },
 "nbformat": 4,
 "nbformat_minor": 2
}
